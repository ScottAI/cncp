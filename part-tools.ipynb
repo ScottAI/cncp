{
 "cells": [
  {
   "cell_type": "markdown",
   "metadata": {},
   "source": [
    "# <span id=\"part_tools\"></span> Part 5: Tooling"
   ]
  },
  {
   "cell_type": "markdown",
   "metadata": {},
   "source": [
    "In this final part we draw together some of the tooling aspects that we've referred to throughout the rest of *Complex networks, complex processes*. These include the use of a [standard virtual environment](software-venv.ipynb) for all our simulations, to facilitate reprodicibility; and the use of a framework for [managing large numbers of experiments and repetitions](software-epyc.ipynb) within this environment, to facilitate good working practices. We'll also point to the [various Python libaries](software.ipynb) and tools we've made use of."
   ]
  }
 ],
 "metadata": {
  "kernelspec": {
   "display_name": "Python 2",
   "language": "python",
   "name": "python2"
  },
  "language_info": {
   "codemirror_mode": {
    "name": "ipython",
    "version": 2
   },
   "file_extension": ".py",
   "mimetype": "text/x-python",
   "name": "python",
   "nbconvert_exporter": "python",
   "pygments_lexer": "ipython2",
   "version": "2.7.12"
  }
 },
 "nbformat": 4,
 "nbformat_minor": 0
}
