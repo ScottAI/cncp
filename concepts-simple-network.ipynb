{
 "cells": [
  {
   "cell_type": "markdown",
   "metadata": {},
   "source": [
    "# <span id=\"chap_siomple_network\"></span> Simple networks"
   ]
  },
  {
   "cell_type": "markdown",
   "metadata": {},
   "source": [
    "When we looked at [lattices](concepts-networks.ipynb#sec_concepts_networks_lattice) we said that these were probably the simplest interesting networks we could imagine encountering. Actually we can broaden the concept of a \"simple but still interesting\" network a little by considering in a little more detail some of the ways in which nodes could be connected. We can then pick out a class of networks that are \"simple\" both mathematically and computationally, but which have shown themselves to be useful in a lot of cases. "
   ]
  },
  {
   "cell_type": "code",
   "execution_count": 1,
   "metadata": {
    "collapsed": false
   },
   "outputs": [
    {
     "name": "stderr",
     "output_type": "stream",
     "text": [
      "/Users/sd/research/writing/complex-networks-complex-processes/notebook/cncp/lib/python2.7/site-packages/matplotlib/__init__.py:878: UserWarning: axes.color_cycle is deprecated and replaced with axes.prop_cycle; please use the latter.\n",
      "  warnings.warn(self.msg_depr % (key, alt_key))\n"
     ]
    }
   ],
   "source": [
    "import cncp\n",
    "\n",
    "import networkx\n",
    "import numpy\n",
    "\n",
    "import matplotlib as mpl\n",
    "%matplotlib inline\n",
    "%config InlineBackend.figure_format = 'svg'\n",
    "import matplotlib.pyplot as plt\n",
    "import matplotlib.cm as cmap\n",
    "import seaborn"
   ]
  },
  {
   "cell_type": "markdown",
   "metadata": {},
   "source": [
    "## <span id=\"sec_concepts_simple_network_undirected\"></span> Undirected networks"
   ]
  },
  {
   "cell_type": "markdown",
   "metadata": {},
   "source": [
    "When we defined what we mean by a network, we [said](concepts-networks.ipynb#chap_concepts_networks) that it consisted of nodes connected by edges. In the simplest case, all the edges are **undirected**, meaing they connect a pair of nodes with no preferred direction. Clearly this isn't appropriate for a lot of cases &ndash; modelling parent-child relationships without direction is clearly problematic, for example &ndash; but it turns out to be fine for a lot of interesting cases.\n",
    "\n",
    "Some networks may include **directed** edges, where some (or all) of the edges have a preferred direction. In a social network this might include marriage relationships, which are \"equal partnerships\" and so don't have an obvious choice of direction in the way parenthood does.\n",
    "\n",
    "If a network includes any directed edges, we refer to it as a **directed network**; otherwise we talk about **undirected networks**. The term \"network\" without qualification usually refers to an undirected network. \n",
    "\n",
    "We'll return to directed networks later."
   ]
  },
  {
   "cell_type": "markdown",
   "metadata": {},
   "source": [
    "## <span id=\"sec_concepts_simple_network_parallel\"></span> Parallel edges"
   ]
  },
  {
   "cell_type": "markdown",
   "metadata": {},
   "source": [
    "When we allowed edges to connect a pair of nodes, we didn't specify that each edge in the network connected a *different* pair. This leaves open the possibility of two edges connecting the same pair. Such edges are referred to as **parallel edges** since, if we drew the network, we would need a pair of lines between the pair of nodes.  \n",
    "\n",
    "The `networkx.Graph` class doesn't allow parallel edges. We can try to create a network with them, for example:"
   ]
  },
  {
   "cell_type": "code",
   "execution_count": 2,
   "metadata": {
    "collapsed": true
   },
   "outputs": [],
   "source": [
    "g = networkx.Graph()\n",
    "g.add_nodes_from([1, 2, 3])\n",
    "g.add_edges_from([(1, 2), (1, 2), (2, 3)])"
   ]
  },
  {
   "cell_type": "markdown",
   "metadata": {},
   "source": [
    "But if we then interrogate it, we'll find that the duplicate edge between nodes 1 and 2 has been ignored:"
   ]
  },
  {
   "cell_type": "code",
   "execution_count": 3,
   "metadata": {
    "collapsed": false
   },
   "outputs": [
    {
     "data": {
      "text/plain": [
       "[(1, 2)]"
      ]
     },
     "execution_count": 3,
     "metadata": {},
     "output_type": "execute_result"
    }
   ],
   "source": [
    "g.edges(1)"
   ]
  },
  {
   "cell_type": "markdown",
   "metadata": {},
   "source": [
    "There is another class, `networkx.MultiGraph`, that *does* allow parallel edges:"
   ]
  },
  {
   "cell_type": "code",
   "execution_count": 4,
   "metadata": {
    "collapsed": false
   },
   "outputs": [
    {
     "data": {
      "text/plain": [
       "[(1, 2), (1, 2)]"
      ]
     },
     "execution_count": 4,
     "metadata": {},
     "output_type": "execute_result"
    }
   ],
   "source": [
    "h = networkx.MultiGraph()\n",
    "h.add_nodes_from([1, 2, 3])\n",
    "h.add_edges_from([(1, 2), (1, 2), (2, 3)])\n",
    "h.edges(1)"
   ]
  },
  {
   "cell_type": "markdown",
   "metadata": {},
   "source": [
    "But if we try to draw this network, we'll be disappointed:"
   ]
  },
  {
   "cell_type": "code",
   "execution_count": 5,
   "metadata": {
    "collapsed": false
   },
   "outputs": [
    {
     "data": {
      "image/svg+xml": [
       "<?xml version=\"1.0\" encoding=\"utf-8\" standalone=\"no\"?>\n",
       "<!DOCTYPE svg PUBLIC \"-//W3C//DTD SVG 1.1//EN\"\n",
       "  \"http://www.w3.org/Graphics/SVG/1.1/DTD/svg11.dtd\">\n",
       "<!-- Created with matplotlib (http://matplotlib.org/) -->\n",
       "<svg height=\"202pt\" version=\"1.1\" viewBox=\"0 0 218 202\" width=\"218pt\" xmlns=\"http://www.w3.org/2000/svg\" xmlns:xlink=\"http://www.w3.org/1999/xlink\">\n",
       " <defs>\n",
       "  <style type=\"text/css\">\n",
       "*{stroke-linecap:butt;stroke-linejoin:round;stroke-miterlimit:100000;}\n",
       "  </style>\n",
       " </defs>\n",
       " <g id=\"figure_1\">\n",
       "  <g id=\"patch_1\">\n",
       "   <path d=\"M 0 202.517969 \n",
       "L 218.271094 202.517969 \n",
       "L 218.271094 0 \n",
       "L 0 0 \n",
       "z\n",
       "\" style=\"fill:#ffffff;\"/>\n",
       "  </g>\n",
       "  <g id=\"axes_1\">\n",
       "   <g id=\"LineCollection_1\">\n",
       "    <path clip-path=\"url(#p21e2278db5)\" d=\"M 81.769196 35.686942 \n",
       "L 154.675814 87.181402 \n",
       "\" style=\"fill:none;stroke:#000000;\"/>\n",
       "    <path clip-path=\"url(#p21e2278db5)\" d=\"M 81.769196 35.686942 \n",
       "L 154.675814 87.181402 \n",
       "\" style=\"fill:none;stroke:#000000;\"/>\n",
       "    <path clip-path=\"url(#p21e2278db5)\" d=\"M 154.675814 87.181402 \n",
       "L 126.004309 155.258371 \n",
       "\" style=\"fill:none;stroke:#000000;\"/>\n",
       "   </g>\n",
       "   <g id=\"PathCollection_1\">\n",
       "    <defs>\n",
       "     <path d=\"M 0 10 \n",
       "C 2.652031 10 5.195799 8.946337 7.071068 7.071068 \n",
       "C 8.946337 5.195799 10 2.652031 10 0 \n",
       "C 10 -2.652031 8.946337 -5.195799 7.071068 -7.071068 \n",
       "C 5.195799 -8.946337 2.652031 -10 0 -10 \n",
       "C -2.652031 -10 -5.195799 -8.946337 -7.071068 -7.071068 \n",
       "C -8.946337 -5.195799 -10 -2.652031 -10 0 \n",
       "C -10 2.652031 -8.946337 5.195799 -7.071068 7.071068 \n",
       "C -5.195799 8.946337 -2.652031 10 0 10 \n",
       "z\n",
       "\" id=\"m90054c3c1d\" style=\"stroke:#eeeeee;stroke-width:0.3;\"/>\n",
       "    </defs>\n",
       "    <g clip-path=\"url(#p21e2278db5)\">\n",
       "     <use style=\"fill:#ff0000;stroke:#eeeeee;stroke-width:0.3;\" x=\"81.7691964286\" xlink:href=\"#m90054c3c1d\" y=\"35.6869419643\"/>\n",
       "     <use style=\"fill:#ff0000;stroke:#eeeeee;stroke-width:0.3;\" x=\"154.67581424\" xlink:href=\"#m90054c3c1d\" y=\"87.1814019909\"/>\n",
       "     <use style=\"fill:#ff0000;stroke:#eeeeee;stroke-width:0.3;\" x=\"126.004309057\" xlink:href=\"#m90054c3c1d\" y=\"155.258370536\"/>\n",
       "    </g>\n",
       "   </g>\n",
       "   <g id=\"text_1\">\n",
       "    <g clip-path=\"url(#p21e2278db5)\">\n",
       "     <!-- 1 -->\n",
       "     <defs>\n",
       "      <path d=\"M 37.25 0 \n",
       "L 28.46875 0 \n",
       "L 28.46875 56 \n",
       "Q 25.296875 52.984375 20.140625 49.953125 \n",
       "Q 14.984375 46.921875 10.890625 45.40625 \n",
       "L 10.890625 53.90625 \n",
       "Q 18.265625 57.375 23.78125 62.296875 \n",
       "Q 29.296875 67.234375 31.59375 71.875 \n",
       "L 37.25 71.875 \n",
       "z\n",
       "\" id=\"ArialMT-31\"/>\n",
       "     </defs>\n",
       "     <g transform=\"translate(78.4326339286 38.7891294643)scale(0.12 -0.12)\">\n",
       "      <use xlink:href=\"#ArialMT-31\"/>\n",
       "     </g>\n",
       "    </g>\n",
       "   </g>\n",
       "   <g id=\"text_2\">\n",
       "    <g clip-path=\"url(#p21e2278db5)\">\n",
       "     <!-- 2 -->\n",
       "     <defs>\n",
       "      <path d=\"M 50.34375 8.453125 \n",
       "L 50.34375 0 \n",
       "L 3.03125 0 \n",
       "Q 2.9375 3.171875 4.046875 6.109375 \n",
       "Q 5.859375 10.9375 9.828125 15.625 \n",
       "Q 13.8125 20.3125 21.34375 26.46875 \n",
       "Q 33.015625 36.03125 37.109375 41.625 \n",
       "Q 41.21875 47.21875 41.21875 52.203125 \n",
       "Q 41.21875 57.421875 37.46875 61 \n",
       "Q 33.734375 64.59375 27.734375 64.59375 \n",
       "Q 21.390625 64.59375 17.578125 60.78125 \n",
       "Q 13.765625 56.984375 13.71875 50.25 \n",
       "L 4.6875 51.171875 \n",
       "Q 5.609375 61.28125 11.65625 66.578125 \n",
       "Q 17.71875 71.875 27.9375 71.875 \n",
       "Q 38.234375 71.875 44.234375 66.15625 \n",
       "Q 50.25 60.453125 50.25 52 \n",
       "Q 50.25 47.703125 48.484375 43.546875 \n",
       "Q 46.734375 39.40625 42.65625 34.8125 \n",
       "Q 38.578125 30.21875 29.109375 22.21875 \n",
       "Q 21.1875 15.578125 18.9375 13.203125 \n",
       "Q 16.703125 10.84375 15.234375 8.453125 \n",
       "z\n",
       "\" id=\"ArialMT-32\"/>\n",
       "     </defs>\n",
       "     <g transform=\"translate(151.33925174 90.2835894909)scale(0.12 -0.12)\">\n",
       "      <use xlink:href=\"#ArialMT-32\"/>\n",
       "     </g>\n",
       "    </g>\n",
       "   </g>\n",
       "   <g id=\"text_3\">\n",
       "    <g clip-path=\"url(#p21e2278db5)\">\n",
       "     <!-- 3 -->\n",
       "     <defs>\n",
       "      <path d=\"M 4.203125 18.890625 \n",
       "L 12.984375 20.0625 \n",
       "Q 14.5 12.59375 18.140625 9.296875 \n",
       "Q 21.78125 6 27 6 \n",
       "Q 33.203125 6 37.46875 10.296875 \n",
       "Q 41.75 14.59375 41.75 20.953125 \n",
       "Q 41.75 27 37.796875 30.921875 \n",
       "Q 33.84375 34.859375 27.734375 34.859375 \n",
       "Q 25.25 34.859375 21.53125 33.890625 \n",
       "L 22.515625 41.609375 \n",
       "Q 23.390625 41.5 23.921875 41.5 \n",
       "Q 29.546875 41.5 34.03125 44.421875 \n",
       "Q 38.53125 47.359375 38.53125 53.46875 \n",
       "Q 38.53125 58.296875 35.25 61.46875 \n",
       "Q 31.984375 64.65625 26.8125 64.65625 \n",
       "Q 21.6875 64.65625 18.265625 61.421875 \n",
       "Q 14.84375 58.203125 13.875 51.765625 \n",
       "L 5.078125 53.328125 \n",
       "Q 6.6875 62.15625 12.390625 67.015625 \n",
       "Q 18.109375 71.875 26.609375 71.875 \n",
       "Q 32.46875 71.875 37.390625 69.359375 \n",
       "Q 42.328125 66.84375 44.9375 62.5 \n",
       "Q 47.5625 58.15625 47.5625 53.265625 \n",
       "Q 47.5625 48.640625 45.0625 44.828125 \n",
       "Q 42.578125 41.015625 37.703125 38.765625 \n",
       "Q 44.046875 37.3125 47.5625 32.6875 \n",
       "Q 51.078125 28.078125 51.078125 21.140625 \n",
       "Q 51.078125 11.765625 44.234375 5.25 \n",
       "Q 37.40625 -1.265625 26.953125 -1.265625 \n",
       "Q 17.53125 -1.265625 11.296875 4.34375 \n",
       "Q 5.078125 9.96875 4.203125 18.890625 \n",
       "\" id=\"ArialMT-33\"/>\n",
       "     </defs>\n",
       "     <g transform=\"translate(122.667746557 158.360558036)scale(0.12 -0.12)\">\n",
       "      <use xlink:href=\"#ArialMT-33\"/>\n",
       "     </g>\n",
       "    </g>\n",
       "   </g>\n",
       "  </g>\n",
       " </g>\n",
       " <defs>\n",
       "  <clipPath id=\"p21e2278db5\">\n",
       "   <rect height=\"167.4\" width=\"167.4\" x=\"33.940625\" y=\"11.77265625\"/>\n",
       "  </clipPath>\n",
       " </defs>\n",
       "</svg>\n"
      ],
      "text/plain": [
       "<matplotlib.figure.Figure at 0x114c60910>"
      ]
     },
     "metadata": {},
     "output_type": "display_data"
    }
   ],
   "source": [
    "fig = plt.figure(figsize = (3, 3))\n",
    "plt.gca().set_axis_off()\n",
    "\n",
    "networkx.draw_networkx(h, node_size = 400)\n",
    "\n",
    "_ = plt.show()"
   ]
  },
  {
   "cell_type": "markdown",
   "metadata": {},
   "source": [
    "We can manipulate networks with parallel edges, but to draw them properly we'd need to write our own [layout code](concepts-geometry.ipynb) as we did when we wanted to lay-out the lattice in a particular way."
   ]
  },
  {
   "cell_type": "markdown",
   "metadata": {},
   "source": [
    "## <span id=\"sec_concepts_simple_network_selfloops\"></span> Self-loops"
   ]
  },
  {
   "cell_type": "markdown",
   "metadata": {},
   "source": [
    "Following on from the discussion of parallel edges, we *also* didn't specify that the pair of of nodes connected by an edge were two *different* nodes. This would mean we could have an edge whose endpoints were the same &ndash; and, by implication, that the node was adjacent to itself. Such edges are referred to as **self-loops**: they link a node to itself, often drawn as a little loop.\n",
    "\n",
    "The `networkx.Graph` class supports self-loops, but again doesn't draw them properly by default. If we construct a network with self-loops, they will show up in the list of edges intersecting a node:"
   ]
  },
  {
   "cell_type": "code",
   "execution_count": 6,
   "metadata": {
    "collapsed": false
   },
   "outputs": [
    {
     "data": {
      "text/plain": [
       "[(1, 1), (1, 2)]"
      ]
     },
     "execution_count": 6,
     "metadata": {},
     "output_type": "execute_result"
    }
   ],
   "source": [
    "g2 = networkx.Graph()\n",
    "g2.add_nodes_from([1, 2, 3])\n",
    "g2.add_edges_from([(1, 2), (1, 1), (2, 3), (2, 2)])   # includes two self-loops\n",
    "\n",
    "# extract the edges intersecting node 1\n",
    "g2.edges(1)"
   ]
  },
  {
   "cell_type": "markdown",
   "metadata": {},
   "source": [
    "We can find self-loops by enumerating edges and testing whether the two endpoints are the same. We can also get `networkx` to extract the self-loops from a network itself:"
   ]
  },
  {
   "cell_type": "code",
   "execution_count": 7,
   "metadata": {
    "collapsed": false
   },
   "outputs": [
    {
     "data": {
      "text/plain": [
       "[(1, 1), (2, 2)]"
      ]
     },
     "execution_count": 7,
     "metadata": {},
     "output_type": "execute_result"
    }
   ],
   "source": [
    "g2.selfloop_edges()"
   ]
  },
  {
   "cell_type": "markdown",
   "metadata": {},
   "source": [
    "And it's equally easy to find the number and identity of nodes with self-loops (*i.e.*, that are self-adjacent):"
   ]
  },
  {
   "cell_type": "code",
   "execution_count": 8,
   "metadata": {
    "collapsed": false
   },
   "outputs": [
    {
     "name": "stdout",
     "output_type": "stream",
     "text": [
      "Network has 2 self-adjacent nodes labelled [1, 2]\n"
     ]
    }
   ],
   "source": [
    "print \"Network has {n} self-adjacent nodes labelled {ns}\".format(n = g2.number_of_selfloops(),\n",
    "                                                                 ns = g2.nodes_with_selfloops())"
   ]
  },
  {
   "cell_type": "markdown",
   "metadata": {},
   "source": [
    "## <span id=\"sec_concepts_simple_network_simple\"></span> Simple networks"
   ]
  },
  {
   "cell_type": "markdown",
   "metadata": {},
   "source": [
    "Reading the above discussion, you might be struck by how allowing the different kinds of edge makes things more complicated than perhaps they need to be. If you were indeed struck by this, then congratulations! &ndash; you're in the majority! It's generally acknowledged that all these features &ndash; whilst absolutely necessary in many interesting situations &ndash; are *not* necessary in another, perhaps larger, class of interesting situations. Put slightly differently, we can learn a lot about networks without delving into the complexity of directed edges, parallel edges, self-loops, and indeed other fine details.\n",
    "\n",
    "A **simple network** is defined as a network of finite order that contains only undirected edges, has no parallel edges, and no self-loops.\n",
    "\n",
    "How do we make sure we're dealing with a simple network? Using the `networkx.Graph` class is sufficient to both eliminate parallel edges and ensure a finite order. That leaves self-loops. If it's possible that a network contains some, and if we want to guarantee that there aren't any, then we need to explicitly remove them before going any further. We can do this very simply:"
   ]
  },
  {
   "cell_type": "code",
   "execution_count": 9,
   "metadata": {
    "collapsed": false
   },
   "outputs": [
    {
     "name": "stdout",
     "output_type": "stream",
     "text": [
      "Network now has 0 self-loops\n"
     ]
    }
   ],
   "source": [
    "g2.remove_edges_from(g2.selfloop_edges())\n",
    "print \"Network now has {n} self-loops\".format(n = g2.number_of_selfloops())"
   ]
  }
 ],
 "metadata": {
  "kernelspec": {
   "display_name": "Python 2",
   "language": "python",
   "name": "python2"
  },
  "language_info": {
   "codemirror_mode": {
    "name": "ipython",
    "version": 2
   },
   "file_extension": ".py",
   "mimetype": "text/x-python",
   "name": "python",
   "nbconvert_exporter": "python",
   "pygments_lexer": "ipython2",
   "version": "2.7.13"
  }
 },
 "nbformat": 4,
 "nbformat_minor": 1
}
