{
 "cells": [
  {
   "cell_type": "markdown",
   "metadata": {},
   "source": [
    "# <span id=\"part-getting-started\"></span> Part 1: Getting started"
   ]
  },
  {
   "cell_type": "markdown",
   "metadata": {},
   "source": [
    "The first part of *Complex networks, complex processes* is about the basics: [using Python for network science](getting-started.ipynb), the basic ideas of [networks](concepts-networks.ipynb) and metrics of various kinds, such as [degree](concepts-degree.ipynb), [paths, connectnedness](concepts-paths.ipynb), and [centrality](concepts-centrality.ipynb). These provide the substrate on which to run [processes over a network](concepts-processes.ipynb), which also involves notions of [stochasticity](concepts-stochasticity.ipynb).\n",
    "\n",
    "The bulk of this material will be familiar to anyone who's had exposure to mathematical graph theory and has done some basic Python programming."
   ]
  }
 ],
 "metadata": {
  "kernelspec": {
   "display_name": "Python 2",
   "language": "python",
   "name": "python2"
  },
  "language_info": {
   "codemirror_mode": {
    "name": "ipython",
    "version": 2
   },
   "file_extension": ".py",
   "mimetype": "text/x-python",
   "name": "python",
   "nbconvert_exporter": "python",
   "pygments_lexer": "ipython2",
   "version": "2.7.12"
  }
 },
 "nbformat": 4,
 "nbformat_minor": 0
}
