{
 "cells": [
  {
   "cell_type": "markdown",
   "metadata": {},
   "source": [
    "# <span id=\"part-getting-started\"></span> Part 1: Getting started"
   ]
  },
  {
   "cell_type": "markdown",
   "metadata": {},
   "source": [
    "The first part of *Complex networks, complex processes* is about the basics: [using Python for network science](getting-started.ipynb), the basic ideas of [networks and network metrics](concepts-networks.ipynb) of various kinds, and the basic idea of a [process running over a network](concepts-processesd.ipynb). A bulk of the material will be familiar to anyone who's had exposure to mathematical graph theory and has done some basic Python programming."
   ]
  }
 ],
 "metadata": {
  "kernelspec": {
   "display_name": "Python 2",
   "language": "python",
   "name": "python2"
  },
  "language_info": {
   "codemirror_mode": {
    "name": "ipython",
    "version": 2
   },
   "file_extension": ".py",
   "mimetype": "text/x-python",
   "name": "python",
   "nbconvert_exporter": "python",
   "pygments_lexer": "ipython2",
   "version": "2.7.11"
  }
 },
 "nbformat": 4,
 "nbformat_minor": 0
}
