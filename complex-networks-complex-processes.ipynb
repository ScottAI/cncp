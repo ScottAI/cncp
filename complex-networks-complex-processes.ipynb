{
 "metadata": {
  "name": "",
  "signature": "sha256:096c9e09fd84b706c850208f5fff532a4bfdb49d9f7418e6e0532984ebe54cb0"
 },
 "nbformat": 3,
 "nbformat_minor": 0,
 "worksheets": [
  {
   "cells": [
    {
     "cell_type": "heading",
     "level": 1,
     "metadata": {},
     "source": [
      "Complex networks, complex processes"
     ]
    },
    {
     "cell_type": "markdown",
     "metadata": {},
     "source": [
      "[Simon Dobson](mailto:simon.dobson@computer.org)\n",
      "\n",
      "School of Computer Science<br>University of St Andrews, Scotland UK"
     ]
    },
    {
     "cell_type": "markdown",
     "metadata": {},
     "source": [
      "1. [Preface](preface.ipynb)\n",
      "1. [Introduction](introduction.ipynb)\n",
      "1. [Basic ideas](concepts.ipynb)\n",
      "1. [ER networks](er-networks.ipynb)\n",
      "1. [Power law networks](powerlaw.ipynb)\n",
      "1. [Generating more complex networks](generating-networks.ipynb)\n",
      "1. [Spectral network theory](spectral.ipynb)\n",
      "1. [Epidemic spreading](epidemic-spreading.ipynb)\n",
      "1. Percolation\n",
      "1. Modular networks\n",
      "1. Coupled networks\n",
      "1. Adaptive networks\n",
      "1. Networks of spatial data\n",
      "1. [Working with very large networks](parallel.ipynb)\n",
      "1. [Software](software.ipynb)\n",
      "1. [Bibliography](bibliography.html)"
     ]
    },
    {
     "cell_type": "markdown",
     "metadata": {},
     "source": [
      "This book is Copyright (c) 2014, [Simon Dobson](mailto:simon.dobson@computer.org).\n",
      "\n",
      "<img src=\"cc-at-nc-sa.png\"> Licensed under the [Creative Commons Attribution-Noncommercial-Share Alike 3.0 Unported License](http://creativecommons.org/licenses/by-nc-sa/3.0/)."
     ]
    }
   ],
   "metadata": {}
  }
 ]
}