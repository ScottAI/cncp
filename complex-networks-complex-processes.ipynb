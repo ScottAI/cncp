{
 "cells": [
  {
   "cell_type": "markdown",
   "metadata": {},
   "source": [
    "# Complex networks, complex processes"
   ]
  },
  {
   "cell_type": "markdown",
   "metadata": {},
   "source": [
    "[Simon Dobson](mailto:simon.dobson@computer.org)\n",
    "\n",
    "School of Computer Science<br>University of St Andrews, Scotland UK"
   ]
  },
  {
   "cell_type": "markdown",
   "metadata": {},
   "source": [
    "[Preface](preface.ipynb)\n",
    "\n",
    "[Introduction](introduction.ipynb)\n",
    "\n",
    "\n",
    "**Basic ideas**\n",
    "\n",
    "* Graphs and networks\n",
    "* Networks in Python with `NetworkX`\n",
    "* Paths and connectivity\n",
    "* Degree distribution\n",
    "* Assortativity\n",
    "* Modularity\n",
    "* $k$-cores\n",
    "* Centrality\n",
    "\n",
    "\n",
    "**Topology**\n",
    "\n",
    "* Regular topologies\n",
    "* Arbitrary topologies\n",
    "* Spatial networks\n",
    "* Multilayer networks\n",
    "\n",
    "\n",
    "**Analysis**\n",
    "\n",
    "* Topological changes\n",
    "* Spectral network theory\n",
    "\n",
    "\n",
    "**Spreading processes**\n",
    "\n",
    "* Percolation\n",
    "* Epidemics\n",
    "\n",
    "\n",
    "**Adaptive networks**\n",
    "\n",
    "\n",
    "**Doing things at scale**\n",
    "\n",
    "* [Parallel processing for network science](parallel.ipynb)\n",
    "* [Native IPython parallelism](parallel-ipython.ipynb)\n",
    "* [Setting up a simple compute cluster](parallel-simple.ipynb)\n",
    "* [Using a remote client](parallel-client.ipynb)\n",
    "* [More complex clusters](parallel-complex.ipynb)\n",
    "* [Reproducubility at scale](parallel-recomputation.ipynb)\n",
    "\n",
    "\n",
    "**Directions**\n",
    "\n",
    "* Hot topics\n",
    "\n",
    "[Software](software.ipynb)\n",
    "\n",
    "[Bibliography](bibliography.html)\n",
    "\n",
    "[Acknowledgements](acknowledgements.ipynb)"
   ]
  },
  {
   "cell_type": "markdown",
   "metadata": {},
   "source": [
    "This book is Copyright (c) 2014&ndash;16, [Simon Dobson](mailto:simon.dobson@computer.org).\n",
    "\n",
    "<img src=\"cc-at-nc-sa.png\"> Licensed under the [Creative Commons Attribution-Noncommercial-Share Alike 3.0 Unported License](http://creativecommons.org/licenses/by-nc-sa/3.0/)."
   ]
  }
 ],
 "metadata": {
  "kernelspec": {
   "display_name": "Python 2",
   "language": "python",
   "name": "python2"
  },
  "language_info": {
   "codemirror_mode": {
    "name": "ipython",
    "version": 2
   },
   "file_extension": ".py",
   "mimetype": "text/x-python",
   "name": "python",
   "nbconvert_exporter": "python",
   "pygments_lexer": "ipython2",
   "version": "2.7.11"
  }
 },
 "nbformat": 4,
 "nbformat_minor": 0
}
