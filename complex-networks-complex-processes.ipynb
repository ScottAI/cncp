{
 "cells": [
  {
   "cell_type": "markdown",
   "metadata": {},
   "source": [
    "# Complex networks, complex processes"
   ]
  },
  {
   "cell_type": "markdown",
   "metadata": {},
   "source": [
    "[Simon Dobson](mailto:simon.dobson@computer.org)\n",
    "\n",
    "School of Computer Science<br>University of St Andrews, Scotland UK"
   ]
  },
  {
   "cell_type": "markdown",
   "metadata": {},
   "source": [
    "[Preface](preface.ipynb)\n",
    "\n",
    "[Introduction](introduction.ipynb)\n",
    "\n",
    "\n",
    "## [Getting started](part-getting-started.ipynb)\n",
    "\n",
    "**Getting started**\n",
    "\n",
    "* [Python for network science](getting-started.ipynb)\n",
    "\n",
    "**Basic ideas: networks**\n",
    "\n",
    "* [Networks](concepts-networks.ipynb)\n",
    "* [Simple networks](concepts-simple-network.ipynb)\n",
    "* [Degree](concepts-degree.ipynb)\n",
    "\n",
    "**Basic ideas: processes**\n",
    "\n",
    "* [Processes on networks](concepts-processes.ipynb)\n",
    "\n",
    "\n",
    "## [Tools and software](part-tools.ipynb)\n",
    "\n",
    "* [Software packages](software.ipynb)\n",
    "* [Computational experiment management with `epyc`](software-epyc.ipynb)\n",
    "\n",
    "\n",
    "[Bibliography](bibliography.ipynb)\n",
    "\n",
    "[Acknowledgements](acknowledgements.ipynb)\n",
    "\n",
    "[About the author](about.ipynb)"
   ]
  },
  {
   "cell_type": "markdown",
   "metadata": {},
   "source": [
    "This book is Copyright (c) 2014&ndash;17, [Simon Dobson](mailto:simon.dobson@computer.org).\n",
    "\n",
    "<img src=\"cc-at-nc-sa.png\"> Licensed under the [Creative Commons Attribution-Noncommercial-Share Alike 3.0 Unported License](http://creativecommons.org/licenses/by-nc-sa/3.0/)."
   ]
  }
 ],
 "metadata": {
  "kernelspec": {
   "display_name": "Python 2",
   "language": "python",
   "name": "python2"
  },
  "language_info": {
   "codemirror_mode": {
    "name": "ipython",
    "version": 2
   },
   "file_extension": ".py",
   "mimetype": "text/x-python",
   "name": "python",
   "nbconvert_exporter": "python",
   "pygments_lexer": "ipython2",
   "version": "2.7.12"
  }
 },
 "nbformat": 4,
 "nbformat_minor": 0
}
