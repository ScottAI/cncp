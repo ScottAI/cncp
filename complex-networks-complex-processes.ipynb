{
 "cells": [
  {
   "cell_type": "markdown",
   "metadata": {},
   "source": [
    "# Complex networks, complex processes"
   ]
  },
  {
   "cell_type": "markdown",
   "metadata": {},
   "source": [
    "[Simon Dobson](mailto:simon.dobson@computer.org)\n",
    "\n",
    "School of Computer Science<br>University of St Andrews, Scotland UK\n",
    "\n",
    "---"
   ]
  },
  {
   "cell_type": "markdown",
   "metadata": {},
   "source": [
    "[Preface](preface.ipynb)\n",
    "\n",
    "[Introduction](introduction.ipynb)\n",
    "\n",
    "\n",
    "## [Part 1: Getting started](part-getting-started.ipynb)\n",
    "\n",
    "**Getting started**\n",
    "\n",
    "* [Python for network science](getting-started.ipynb)\n",
    "\n",
    "**Basic ideas: networks**\n",
    "\n",
    "* [Networks](concepts-networks.ipynb)\n",
    "* [Networks, and geometry](concepts-geometry.ipynb)\n",
    "* [Simple networks](concepts-simple-network.ipynb)\n",
    "* [Degree](concepts-degree.ipynb)\n",
    "* [Neighbourhoods and paths](concepts-paths.ipynb)\n",
    "\n",
    "**Basic ideas: processes**\n",
    "\n",
    "* [Processes on networks](concepts-processes.ipynb)\n",
    "\n",
    "\n",
    "## [Part 2: Networks and processes](part-networks-processes.ipynb)\n",
    "\n",
    "**Arbitrary topologies**\n",
    "\n",
    "* [The configuration model](configuration.ipynb)\n",
    "\n",
    "**Epidemic spreading**\n",
    "\n",
    "* [The biology of epidemics](epidemic-spreading.ipynb)\n",
    "\n",
    "\n",
    "\n",
    "## [Tools and software](part-tools.ipynb)\n",
    "\n",
    "* [Software packages](software.ipynb)\n",
    "* [Computational experiment management with `epyc`](software-epyc.ipynb)\n",
    "\n",
    "\n",
    "[Bibliography](bibliography.ipynb)\n",
    "\n",
    "[Acknowledgements](acknowledgements.ipynb)\n",
    "\n",
    "[About the author](about.ipynb)"
   ]
  },
  {
   "cell_type": "markdown",
   "metadata": {},
   "source": [
    "---\n",
    "\n",
    "All material Copyright (c) 2014&ndash;17, [Simon Dobson](mailto:simon.dobson@computer.org).\n",
    "\n",
    "<img src=\"cc-at-nc-sa.png\"> Text licensed under the [Creative Commons Attribution-Noncommercial-Share Alike 3.0 Unported License](http://creativecommons.org/licenses/by-nc-sa/3.0/).\n",
    "\n",
    "<img src=\"gplv3.png\">Software licensed under the [Gnu General Public Licence v3](https://www.gnu.org/licenses/gpl-3.0.en.html)"
   ]
  }
 ],
 "metadata": {
  "kernelspec": {
   "display_name": "Python 2",
   "language": "python",
   "name": "python2"
  },
  "language_info": {
   "codemirror_mode": {
    "name": "ipython",
    "version": 2
   },
   "file_extension": ".py",
   "mimetype": "text/x-python",
   "name": "python",
   "nbconvert_exporter": "python",
   "pygments_lexer": "ipython2",
   "version": "2.7.13"
  }
 },
 "nbformat": 4,
 "nbformat_minor": 0
}
