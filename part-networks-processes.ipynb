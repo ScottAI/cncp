{
 "cells": [
  {
   "cell_type": "markdown",
   "metadata": {},
   "source": [
    "# <span id=\"part-networks-processes\"></span> Part 2: Networks and processes"
   ]
  },
  {
   "cell_type": "markdown",
   "metadata": {},
   "source": [
    "This part forms a first introduction to *complex* networks and their processes.\n",
    "\n",
    "We focus first on networks, and especially on the common topologies that are often encountered as mathematically tracable models of a range of phenomena. These are chiefly the [Erd&#337;s-R&eacute;nyi](er-networks.ipynb) (ER, or random) networks, which have particularly tractable mathematical properties, and the [Barab&aacute;si-Albert](powerlaw.ipynb) (BA, power-law, or scale-free) networks that have been prominent in modelling the internet and social networks.\n",
    "\n",
    "These models, which theoretically attractive, aren't typically what one encounters in many real-world applications, where there may be more complex topologies at work. We secondly focus on a method that can generate networks with *any* topology using the [configuration model](configuration.ipynb), and then on a very powerful mathematical technique that can model arbitrary networks (including ER and BA networks) a in a uniform way that's susceptible to analysis, using [generating functions](generating-functions.ipynb). These techniques are very common in the network science literature, and so are important to understand.\n",
    "\n",
    "We will then move to looking at processes over networks, beginning with some important \"global\" processes such as [random walks](random-walks.ipynb), [percolation](percolation.ipynb), and [oscillator synchronisation](synchronisation.ipynb). The goal of these models is to make predictions about the global evolution of a process over a network, often depending only on the parameters of its topology.\n",
    "\n",
    "Finally in this section we'll look at a kind of percolation process that's very important for modelling, that of [epidemic spreading](epidemic-spreading.ipynb) that can model diseases, computer viruses, information or rumour spreading, and a range of other systems. These are all variations of percolation, but with interesting structure and implementation techniques than can be widely applied."
   ]
  }
 ],
 "metadata": {
  "kernelspec": {
   "display_name": "Python 2",
   "language": "python",
   "name": "python2"
  },
  "language_info": {
   "codemirror_mode": {
    "name": "ipython",
    "version": 2
   },
   "file_extension": ".py",
   "mimetype": "text/x-python",
   "name": "python",
   "nbconvert_exporter": "python",
   "pygments_lexer": "ipython2",
   "version": "2.7.11"
  }
 },
 "nbformat": 4,
 "nbformat_minor": 0
}
