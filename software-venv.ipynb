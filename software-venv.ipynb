{
 "cells": [
  {
   "cell_type": "markdown",
   "metadata": {},
   "source": [
    "# <span id=\"chap_software_venv\"></span> A standard virtual environment"
   ]
  },
  {
   "cell_type": "markdown",
   "metadata": {},
   "source": [
    "It's an unfortunate fact of life that the results of computational experiments are often subject to the vagaries of software versions. A calculation that works fine in one environment may fail in another &ndash; or, worse, may successfully calculate the wrong results. The reasons for this are many and varied, but are the bane of the existence of many computational scientists.\n",
    "\n",
    "We can avoid many (but not absolutely all) of the problems simply by taking care to perform calculations in a well-defined computational environment."
   ]
  }
 ],
 "metadata": {
  "kernelspec": {
   "display_name": "Python 2",
   "language": "python",
   "name": "python2"
  },
  "language_info": {
   "codemirror_mode": {
    "name": "ipython",
    "version": 2
   },
   "file_extension": ".py",
   "mimetype": "text/x-python",
   "name": "python",
   "nbconvert_exporter": "python",
   "pygments_lexer": "ipython2",
   "version": "2.7.11"
  }
 },
 "nbformat": 4,
 "nbformat_minor": 0
}
