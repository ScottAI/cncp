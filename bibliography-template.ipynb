{
 "metadata": {
  "name": "",
  "signature": "sha256:d690e0e2e6682f3bce4a8db6dcb03ca7d9e7f48308ba648f7376be192d12cf33"
 },
 "nbformat": 3,
 "nbformat_minor": 0,
 "worksheets": [
  {
   "cells": [
    {
     "cell_type": "heading",
     "level": 1,
     "metadata": {},
     "source": [
      "<span id=\"chap_bibliography\"</span>\n",
      "Bibliography"
     ]
    },
    {
     "cell_type": "markdown",
     "metadata": {},
     "source": [
      "%%BIBLIOGRAPHY%%"
     ]
    }
   ],
   "metadata": {}
  }
 ]
}