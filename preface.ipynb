{
 "cells": [
  {
   "cell_type": "markdown",
   "metadata": {},
   "source": [
    "# <span id=\"chap_preface\"></span> Preface"
   ]
  },
  {
   "cell_type": "markdown",
   "metadata": {},
   "source": [
    "There are lots of books about network science, ranging from the popular-science works of Barab&aacute;si [[Bar03]](#Bar03) to the detailed works of Newman [[New10]](#New10) and (again) Barab&aacute;si [[Bar16]](#Bar16). Typically these are heavy on the mathematical aspects, and are illustrated by pretty pictures of complex networks of various types. What is left undescribed (perhaps because it's of less interest to the authors, perhaps because it's thought to be of less interest to the expected readers) is how to get from the maths to the pictures &ndash; and perhaps more importantly, how to explore real-world networks for which the mathematical descriptions may be lacking.\n",
    "\n",
    "As a computer scientist, I find this unsatisfactory in two distinct ways.\n",
    "\n",
    "At a technical level, the generation and processing of complex networks is anything but uninteresting to me: it's a fascinating application of computing techniques based on complex mathematical ideas. The better we understand these processes, and the easier we make them to express with computers, the easier it will be for other scientists to take these ideas and apply them to make new discoveries about the world.\n",
    "\n",
    "Any new technology &ndash; microscope, telescope, cloud chamber, particle accelerator, computer &ndash; is about more than just a new piece of instrumentation. Each new tool doesn't just *help* with science: it *changes* it, and indeed the scientists who perform it. Each new tools requires new techniques, often developed by a new generation of scientists who can see the potential in a new way of thinking that's suggested or facilitated by the new kit. In this sense, I tend to think that *the computer is the new microscope*: computers *change the way we do science*, but also *change the science that we do*. If we can make computational techniques more accessible, we can deepen and accelerate these processes while discovering new things about computer science and information. \n",
    "\n",
    "At an academic level, most of my work takes place in conjunction with students. It's in the nature of modern science that most students (actually, most researchers of whatever seniority) have quite specialised backgrounds. One often encounters amazingly talented programmers; one often encounters individuals with profound mathematical understanding; but encountering someone who can understand the maths *and* the computing with equal facility is rare. Anyone coming to complex networks therefore has a problem: it's likely they'll have only part of the background they'll need, and the other part will be written in a language they don't understand &ndash; whether that's the language of statistical graph theory or the language of high-performance computing. That makes for a steep learning curve.\n",
    "\n",
    "I can identify personally with this. As a computer scientist, I have much more maths than average in my background &ndash; but significantly less maths than I need to do the work I currently want to do. Conversely, my ability to apply computer science to this work is hampered by unfamiliarity with some of the mathematical concepts needed to get fully to grips with it. This book arises out of my journey to fill in the gaps in my mathematical knowledge, and to deploy the things I *do* know a lot about &ndash; programming, distributed, and high-performance computing &ndash; in order to explore complex real-world networks. Hopefully it's a journey that will be of interest to others in a similar position. \n",
    "\n",
    "When writing about a complex topic it's often hard to find a structure that works. Tjis seems to be especially true for complex networks. It's hard to separate the mathematics from the computing: dealing with one before the other is artificial, but combining them together can make it harder to get to find what you're looking. I've addressed this by grouping chapters thematically; by targeting them at specific problem areas; and by trying to make them self-contained both mathematically and computationally. Hopefully this works for you.\n",
    "\n",
    "Writing about a diverse area also makes it tricky to decide which of the many topics to include. *Complex networks, complex processes* in many ways simply reflects my evolving understanding and interests, with no claim to completeness. I apologise for missing out anything you find to be intreresting or important later on."
   ]
  },
  {
   "cell_type": "markdown",
   "metadata": {},
   "source": [
    "## References"
   ]
  },
  {
   "cell_type": "markdown",
   "metadata": {},
   "source": [
    "<a id=\"Bar03\">[Bar03]</a> Albert-L&aacute;szl&oacute; Barab&aacute;si. Linked: the new science of networks. Perseus. 2003. ISBN 978-0-738-20667-7.\n",
    "\n",
    "<a id=\"Bar16\">[Bar16]</a> Albert-L&aacute;szl&oacute; Barab&aacute;si. Network science. Cambridge University Press. 2016. ISBN 978-1-107-07626-6.\n",
    "\n",
    "<a id=\"New10\">[New10]</a> M.E.J. Newman. Networks: an introduction. Oxford University Press. 2010. ISBN 978-0-19-920665-0."
   ]
  }
 ],
 "metadata": {
  "kernelspec": {
   "display_name": "Python 2",
   "language": "python",
   "name": "python2"
  },
  "language_info": {
   "codemirror_mode": {
    "name": "ipython",
    "version": 2
   },
   "file_extension": ".py",
   "mimetype": "text/x-python",
   "name": "python",
   "nbconvert_exporter": "python",
   "pygments_lexer": "ipython2",
   "version": "2.7.13"
  }
 },
 "nbformat": 4,
 "nbformat_minor": 0
}
