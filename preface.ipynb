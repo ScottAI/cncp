{
 "metadata": {
  "name": "",
  "signature": "sha256:cc79a4ab676fe7c43e899be782326f210e8f98dea75b0cc1893b431e3c7b52e4"
 },
 "nbformat": 3,
 "nbformat_minor": 0,
 "worksheets": [
  {
   "cells": [
    {
     "cell_type": "heading",
     "level": 1,
     "metadata": {},
     "source": [
      "<span id=\"chap_preface\"></span>\n",
      "Preface"
     ]
    },
    {
     "cell_type": "markdown",
     "metadata": {},
     "source": [
      "There are lots of books about network science, ranging from the popular-science works of Barab&aacute;si [[Bar03]](bibliography.ipynb#Bar03) to the detailed works of Newman [[New10]](bibliography.ipynb#New10). Typically these are heavy on the mathematical aspects, and are illustrated by pretty pictures of complex networks of various types. What is left undescribed (perhaps because it's of less interest to the authors, perhaps because it's thought to be of less interest to the expected readers) is how to get from the maths to the pictures &ndash; and perhaps more importantly, how to explore real-world networks for which the mathematical descriptions may be lacking.\n",
      "\n",
      "As a computer scientist, I find this unsatisfactory in two distinct ways.\n",
      "\n",
      "At a technical level, the generation and processing of complex networks is anything but uninteresting to me: it's a fascinating application of computing techniques based on complex mathematical ideas. The better we understand these processes, and the easier we make them to express with computers, the easier it will be for other scientists to take these ideas and apply them to make new discoveries about the world.\n",
      "\n",
      "Any new technology &ndash; microscope, telescope, cloud chamber, particle accelerator, computer &ndash; is about more than just a new piece of instrumentation. Each new tool doesn't just *help* with science: it *changes* it, and indeed the scientists who perform it. Each new tools requires new techniques, often developed by a new generation of scientists who can see the potential in a new way of thinking that's suggested or facilitated by the new kit. In this sense, I tend to think of the computer as the new microscope: computers change *the way we do science*, but also change *the science that we do*. If we can make computational techniques more accessible, we can deepen and accelerate these processes while discovering new things about computer science and information. \n",
      "\n",
      "At an academic level, most of my work takes place in conjunction with students. It's in the nature of modern science that most students (actually, most researchers of whatever seniority) have quite specialised backgrounds. One often encounters amazingly talented programmers; one often encounters individuals with profound mathematical understanding; but encountering someone who can understand the maths *and* the computing with equal facility is rare. Anyone coming to complex networks therefore has a problem: it's likely they'll have only part of the background they'll need, and the other part will be written in a language they don't understand &ndash; whether that's the language of statistical graph theory or the language of high-performance computing. That makes for a steep learning curve.\n",
      "\n",
      "I can identify personally with this. As a computer scientist, I have much more maths than average in my background &ndash; but significantly less maths than I need to do the work I currently want to do. Conversely, my ability to apply computer science to this work is hampered by unfamiliarity with some of the mathematical concepts needed to get fully to grips with it. This book arises out of my journey to fill in the gaps in my mathematical knowledge, and to deploy the things I *do* know a lot about &ndash; programming, distributed, and high-performance computing &ndash; in order to explore complex real-world networks. Hopefully it's a journey that will be of interest to others in a similar position. \n",
      "\n",
      "When writing about a complex topic, it's often hard to find a structure that works, and that seems to be especially true for complex networks. It's hard to separate the mathematics from the computing: dealing with one before the other is artificial, but combining them together makes it harder to get to find what you're looking for a lot of the time.\n",
      "\n",
      "When writing about a diverse area it's also difficult to decide which of the many topics to include. *Complex networks, complex processes* in many ways simply reflects my evolving understanding and interests, with no claim to completeness. I apologise for missing out anything you find important later on.\n",
      "\n",
      "What has been especially &ndash; and unexpectedly &ndash; difficult has been to decide on the boundary between graoh theory and network science. A complex network is by definition a graph, but the objects of study for graph theory are often very regular and un-complex, and can be addressed using much more traditional, and less statistical, techniques. It is by no means obvious *which* graph-theoretic techniques are useful for network science, but it is equally difficult to decide when a technique is *not* useful. It is entirely possible that I have placed the cut incorrectly and excluded techniques that might prove powerful. \n",
      "\n",
      "Writing the code for this book was an adventure in itself, since I wasn't &ndash; and indeed still am not &ndash; a Python guru. The code is extensively commented, and where I think there's scope for confusion I've explained the algorithm or structure involved in more detail.\n",
      "\n",
      "Where this breaks down is in generating some of the diagrams, where we inevitably hit the boundary between computer science and aesthetics: what constitutes a good visual representation of a mathematical or computational idea? At times some of the choices for things like colours or element placement will be driven by presentational concerns. If you disagree, please change them.\n",
      "\n",
      "More generally, this book is in no way a masterclass in Python, `NetworkX`, `numpy`, or (especially) `matplotlib`. Nor am I in any way competent to give such a masterclass: until I started working on these systems I'd never programmed in Python, so I've learned as I've gone along. All these tools have received far better and more detailed treatments in the literature, and there are references in the [bibliography](bibliography.ipynb) to some sources I've found particularly useful."
     ]
    }
   ],
   "metadata": {}
  }
 ]
}