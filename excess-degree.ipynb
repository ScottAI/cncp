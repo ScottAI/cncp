{
 "cells": [
  {
   "cell_type": "markdown",
   "metadata": {},
   "source": [
    "# <span id=\"chap_excess_degree\"></span> Excess degree"
   ]
  },
  {
   "cell_type": "markdown",
   "metadata": {},
   "source": [
    "## <span id=\"sec_excess_degree_er\"></span> Excess degree in ER networks"
   ]
  },
  {
   "cell_type": "markdown",
   "metadata": {},
   "source": [
    "Suppose we select a node at random, then select an edge at random, and traverse it: what would we expect the degree of the node we arrive at to be? The obvious answer might be $\\langle k \\rangle$: is that correct? Put another way, what is the degree distribution of neighbours of a node? \n",
    "\n",
    "A randomly-selected node in an ER network will be expected to have degree $\\langle k \\rangle$, by definition, However &ndash; perhaps surprisingly &ndash; this doesn't imply that a *neighbouring node selected at random* will also have degree $\\langle k \\rangle$. Nodes with high degree are easier to reach than other nodes &ndash; they have more incident edges &ndash; so a neigbouring node is somewhat more likely to have higher degree than normal. We'll explore this mathematically and then computationally.\n",
    "\n",
    "In almost all the networks we'll consider in this book, we disallow parallel edges (two edges with the same endpoints) and self-loops (edges that start and end on the same node). This means that each edge is incident on two, different, nodes, and that each edge contributes to the degree of these two nodes. This implies that, if there are $M$ edges in the network, $\\sum_v deg(v) = 2M$. Suppose we choose a random node $v$ and a random edge $e$ leaving $v$. There are $2M - 1$ places that the other end of $e$ can attach to in the network, and $k$ of them are on a *particular* node of degree $k$, so the probability of $e$ being attached to a *particular* node of degree $k$ is $\\frac{k}{2M - 1} \\approx \\frac{k}{2M}$. Given that there are $N \\, p_k$ nodes of degree $k$ in the network, the probability of $e$ attaching to *any* node of degree $k$ is given by:\n",
    "\n",
    "$$\n",
    "\\frac{k}{2M} N \\, p_k = \\frac{N}{2M} k \\, p_k\n",
    "$$\n",
    "\n",
    "However, it is also the case that $2M = N \\langle k \\rangle$ &ndash; there are $N$ times the mean degree of attachment points for edges. Therefore the probability that a randomly-chosen node is adjacent to a node of degree $k$ is given by\n",
    "\n",
    "$$\n",
    "\\frac{k \\, p_k}{\\langle k \\rangle}\n",
    "$$\n",
    "\n",
    "Put another way, the probability of reaching a node of degree $k$ is proportional to $k \\, p_k$, not simply proportional to the frequency of nodes of degree $k$ is in the network as a whole, to compensate for the fact that higher-degree nodes are adjacent to relatively more nodes than lower-degree nodes. \n",
    "\n",
    "What, then is the average degree of the neighbour of a randomly-chosen node? We can get this by multiplying out the probabilities for all values of $k$, giving:\n",
    "\n",
    "\\begin{align*}\n",
    "    \\sum_k k \\frac{k \\, p_k}{\\langle k \\rangle}\n",
    "    &= \\frac{\\sum_k k^2 \\, p_k}{\\langle k \\rangle} \\\\\n",
    "    &= \\frac{\\langle k^2 \\rangle}{\\langle k \\rangle}\n",
    "\\end{align*}\n",
    "\n",
    "(Using the definition of the second moment from earlier.) This leads to the surprising conclusion that the average degree of the neighbour of a randomly-chosen node is not the same as that of a randomly-chosen node itself. In fact we can express it simply in terms of the variance from above:\n",
    "\n",
    "\\begin{align*}\n",
    "    \\frac{\\langle k^2 \\rangle}{\\langle k \\rangle} - \\langle k \\rangle\n",
    "    &= \\frac{1}{\\langle k \\rangle} ({\\langle k^2 \\rangle} - {\\langle k \\rangle^2}) \\\\\n",
    "    &= \\frac{\\sigma^2}{\\langle k \\rangle}\n",
    "\\end{align*}\n",
    "\n",
    "Since $\\langle k \\rangle$ is always positive, and since $\\sigma^2$ is always non-negative (and strictly greater than zero if there is any variation at all in the degrees of nodes), this implies that $\\frac{\\langle k^2 \\rangle}{\\langle k \\rangle} > {\\langle k \\rangle}$.\n",
    "\n",
    "The number of edges attached to a neighbouring node excluding the edge we traversed to get there (*i.e.*i, the one that makes it adjacent in the first place) is referred to as the *excess degree* of the node, and is by definition one less than the degree of the neighbouring node. If we denote the probability of a node having excess degree $k$ by $q_k$, we can then define the probability distribution of excess degree in the network, which is the same as a node having degree $k + 1$, which is simply:\n",
    "\n",
    "$$\n",
    "q_k = \\frac{(k + 1) \\, p_k}{\\langle k \\rangle}\n",
    "$$\n",
    "\n",
    "using the probability we derived above. To be clear: $p_k$ is the probability of a node selected at random having degree $k$; $q_k$ is the probability of a neighbouring node having *excess* degree $k$ (degree $k + 1$).\n",
    "\n",
    "In random graphs like the ER network, $q_k$ is uncorrelated with the degree of the initial node chosen. This often isn't true for real-world networks, where it may be the case that, for example, high-degree nodes have neighbours that are themselves more likely to be high-degree. In that case, $q_k$ would be correlated with the degree of the initial node, and the computation would have to reflect this correlation. It is important to remember that a lot of the simplifications we have made above, using mean degrees and second moments, rely on the underlying randomness &ndash; that is to say, un-correlatedness &ndash; of the node degrees, and if these assumptions aren't met the calculations will yield the wrong results."
   ]
  }
 ],
 "metadata": {
  "kernelspec": {
   "display_name": "Python 2",
   "language": "python",
   "name": "python2"
  },
  "language_info": {
   "codemirror_mode": {
    "name": "ipython",
    "version": 2
   },
   "file_extension": ".py",
   "mimetype": "text/x-python",
   "name": "python",
   "nbconvert_exporter": "python",
   "pygments_lexer": "ipython2",
   "version": "2.7.13"
  }
 },
 "nbformat": 4,
 "nbformat_minor": 0
}
