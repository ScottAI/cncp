{
 "metadata": {
  "name": "",
  "signature": "sha256:962b893fbfe16a089cdf57ac52f15475f16053eca99336cce3b213667cc62878"
 },
 "nbformat": 3,
 "nbformat_minor": 0,
 "worksheets": [
  {
   "cells": [
    {
     "cell_type": "heading",
     "level": 1,
     "metadata": {},
     "source": [
      "<span id=\"chap:simulate\"></span>\n",
      "Simulating processes"
     ]
    },
    {
     "cell_type": "markdown",
     "metadata": {},
     "source": [
      "So far we have looked at some of the concepts and metrics in networks, and at some simple examples of complex networks and the processes we might run over them. By now it is hopefully evident that there are well-accepted ways to present the results of these experiments, and these are generated through common software approaches. There is however slightly more to this than we've shown so far, and in this chapter we'll explore the issues of network generation and simulation in a little more detail.\n",
      "\n",
      "For this chapter we'll remain at a fairly small scale: simulations that can be done in a moderate time on a typical modern machine. This is enough for exploration but not for serious research, and we'll return in [a later chapter](parallel.ipynb) to performing simulations at a large scale using parallel and cloud computung"
     ]
    },
    {
     "cell_type": "heading",
     "level": 2,
     "metadata": {},
     "source": [
      "<span id=\"sec_repetition\"></span>\n",
      "Repetition"
     ]
    },
    {
     "cell_type": "markdown",
     "metadata": {},
     "source": [
      "..."
     ]
    },
    {
     "cell_type": "heading",
     "level": 2,
     "metadata": {},
     "source": [
      "<span id=\"sec_repeatability_small\"></span>\n",
      "Some notes on repeatability"
     ]
    },
    {
     "cell_type": "markdown",
     "metadata": {},
     "source": [
      "We've been using Python as our computational platform. Python has numerous advantages as a host for scientific computing, chief amongst them being its portability, strong library support, and broad support community. These features are also drawbacks, however. By its nature, Python and its libraries are being evolved as the various package users and maintainers accrue more experience with their software and ideas of where to take it. While these changes are often (we may hope) for the better, they nonetheless pose a challenge for repeatable computational science.\n",
      "\n",
      "The problem is easy to state. Suppose I install Python and the libraries I need, and suppose you do the same. Do we have the same installation? &ndash; and if not, can we be confident that, if you run my experiment, you will get the same answers as I did? If we are running a *deterministic* process where there is one correct output for any given input, that question is fairly easily answered by traditional unit testing. If, however, we are running a *stochastic* process whose outouts are giverned at least in pary by chance, the answer is far less clear. The point we were making [above](#sec_repeatability) is that we need to repeat experiments to average-out these statistical variations, but running the same process on different experimental set-ups still leaves scope for divergence that might be hard to detect.\n",
      "\n",
      "Where does the software variability come from? We might be running different versions of Python. The language designers are quite careful to keep variation to a minimum, at least between minor versions, so me running Python 2.7.9 and you running 2.7.8 hopefully won't cause a problem. (Although we might have left confidence if you were running Python 3, a major version change.) But all things being equal, the Python interpreter is not likely to be a major problem.\n",
      "\n",
      "How about the platform we're running on? If I use a Mac and you use a Linux box &ndash; or, for a bit more spice, I run an Intel Mac and you run an old PowerPC Linux box &ndash; then issues of number formats and different processor behaviours rear their head. In practice you've unlikely to buy a new machine just to run my software, so there's little we can do about this, and these problems only generally arise in highly numeric applications that stretch the mathematical precision of a system.\n",
      "\n",
      "The third source of variability is library versions, and this is both the most likely source of problems and the easiest to address. Most programs will make use of multiple Python libraries, each with its own version and each on its own update schedule. It's reasonably likely that this will lead to version conflicts at some point, with one library making use of a feature that changes (or disappears) in one of the others."
     ]
    },
    {
     "cell_type": "heading",
     "level": 3,
     "metadata": {},
     "source": [
      "<span id=\"sec_virtualenv\"></span>\n",
      "Python virtual environments"
     ]
    },
    {
     "cell_type": "markdown",
     "metadata": {},
     "source": [
      "Python's virtual environments address this problem. A virtual environment (or *virtualenv*) is a Python installation specialised to have access to only a specific set of packages (rather than any that happen to be installed on the host machine), where the set of available packages and their versions can be captured and replicated robustly. Essentially this allows us to capture exactly the set of packages that were used for a set of experiments, and reproduce that environment in a different time and/or place.\n",
      "\n",
      "Two tools provide the functionality we need. The first, unsurprisingly, is called `virtualenv`; the second, `pip`, is the standard Python package installer. The former creates a virtualenv that is the populated by the latter.\n",
      "\n",
      "We can demonstrate the whole system in practice with a single example. Suppose we want to build a simple, reproducible, computational environment consisting of `numpy` and `networkx`. We first create the virtualenv:\n",
      "\n",
      "<pre>\n",
      "<i>sh></i> virtualenv compute\n",
      "<i>sh></i>\n",
      "</pre>\n",
      "\n",
      "This generates a directory called `compute` that will contain the tools and packages. We change into this environment by moving into the directory and then *activating* the environment:\n",
      "\n",
      "<pre>\n",
      "<i>sh></i> cd compute\n",
      "<i>sh></i> . bin/activate\n",
      "<i>sh (compute)></i>\n",
      "</pre>\n",
      "\n",
      "Running the activation script changes the shell to make use of the Python installation of the virtualenv, rather than the installation of the host machine. This can be seen by the change in the shell prompt to include the name of the virtualenv being used.\n",
      "\n",
      "We can now populate the virtualenv with the packages we want to use:\n",
      "\n",
      "<pre>\n",
      "<i>sh (compute)></i> pip install numpy\n",
      "...\n",
      "<i>sh (compute)></i> pip install networkx\n",
      "...\n",
      "<i>sh (compute)></i>\n",
      "</pre>\n",
      "\n",
      "If we run Python in this virtualenv, it will have access to the Python standard library, `numpy` and `networkx` only, regardless of what other packages are installed *outside* the virtualenv. If we want to see what package versions we have, we can get `pip` to tell us:\n",
      "\n",
      "<pre>\n",
      "<i>sh (compute)></i> pip freeze\n",
      "<i>numpy=3.35\n",
      "networkx=1.25</i>\n",
      "<i>sh (compute)></i>\n",
      "</pre>\n",
      "\n",
      "Theese are the packages and their version numbers. We can capture them to a file, conventionally called `requirements.txt`, to generate a description of our virtualenv:\n",
      "\n",
      "<pre>\n",
      "<i>sh (compute)></i> pip freeze >requirements.txt\n",
      "<i>sh (compute)></i>\n",
      "</pre>\n",
      "\n",
      "Now we have the virtualenv description, we can use `pip` to re-create it in another virtualenv if desired. Suppose we now log-in to another machine (\"elsewhere\") and copy `requirements.txt` over. We can then re-create our `compute` environment as follows:\n",
      "\n",
      "<pre>\n",
      "<i>elsewhere></i> ls\n",
      "<i>requirements.txt</i>\n",
      "<i>elsewhere></i> virtualenv compute2\n",
      "<i>elsewhere></i> ls\n",
      "<i>compute2     requirements.txt</i>\n",
      "<i>elsewhere></i> cd compute2\n",
      "<i>elsewhere></i> . bin/activate\n",
      "<i>elsewhere (compute2)></i> pip install -w ../requirements.txt\n",
      "...\n",
      "<i>elsewhere (compute2)></i>\n",
      "</pre>\n",
      "\n",
      "The new `compute2` virtualenv now has the same package versions as `compute` had.\n",
      "\n",
      "This approach to computational science &ndash; using virtualenvs to isolate experiments from unexpected variability &ndash; makes results much more repeatable. Moreover, the same approach can be used when we move to thinking about repeatability on larger scales with [distributed and cloud systems](parallel.ipynb#sec_repeatability_large). "
     ]
    },
    {
     "cell_type": "code",
     "collapsed": false,
     "input": [],
     "language": "python",
     "metadata": {},
     "outputs": []
    }
   ],
   "metadata": {}
  }
 ]
}