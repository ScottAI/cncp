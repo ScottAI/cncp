{
 "cells": [
  {
   "cell_type": "markdown",
   "metadata": {},
   "source": [
    "# <span id=\"chap_concepts_networks\"></span> Networks"
   ]
  },
  {
   "cell_type": "markdown",
   "metadata": {},
   "source": [
    "A **network** consists of a collection of **nodes** (also known as **vertices**), which are connected to each other by a collection of **edges**. Each edge connects two nodes.\n",
    "\n",
    "Typically a network is actually a representation of something else, where the network extracts and simplifies the description of a cmore complex real \"thing\". Examples of networks include:\n",
    "\n",
    "* A road network. Nodes represent junctions, while edges represent streets that connect junctions (nodes) together.\n",
    "* A social network. Here nodes represent people, with edges representing relationships between them such as friendship, parentage, and so forth.\n",
    "* A protein interaction network. These are used to model the biology of cells. A node represents a protein, and an edge represents the fact that two proteins interact in some way within the cell.\n",
    "\n",
    "A few things are immediately apparent from these examples. Firstly, networks are a very general idea that can apply to an awful lot of phenomena. Secondly, the simple description we used may be inadequate for some systems, anmd we may need to introduce more structure. For example we might want the edges in a social network to be **labelled** with what kind of relationship they represent: friends, colleagues, family, and so on. (But it's interesting to note here that [Facebook](http://www.facebook.com) doesn't do this, and treats everyone as a \"friend\": it only has one kind of edge. Sometimes simplicity can work best.) We might also want to label nodes, for example with a name or other identifier. We might want edges to be **directed**, for example to indicate that someone is the parent of someone else and not *vice versa*.\n",
    "\n",
    "Thirdly, networks come in all sorts of sizes. Biological networks are often overwhelmingly large because of the myriad elements and interactions that make up biological systems. We usually refer to the size of a network as its **order**, being simply the number of nodes it contains. \n",
    "\n",
    "Finally, we might observe that networks might have very different patterns of connectivity. Two nodes that are connected by an edge are said to be **adjacent**. A node might be adjacent to a lot of other nodes (that is, have a lot of edges that connect it to other ndoes), while others may be adjacent to very few. In the social network case these differences might correspond to people with lots of friends *versus* people who are more solitary (or isolated). Things might get even more complicated, if we consider that people who are very popular often have proportionately more friends who are themselves very popular. All these features are issues of the **topology** of a network, and topology turns out to be one of the most interesting and powerful features of complex networks.  "
   ]
  },
  {
   "cell_type": "markdown",
   "metadata": {},
   "source": [
    "### <span id=\"sec_concepts_networks_graphs\"></span> Networks or graphs?"
   ]
  },
  {
   "cell_type": "markdown",
   "metadata": {},
   "source": [
    "The structures we're referring to as networks were historically called **graphs**. This is initially confusing for people who think of graphs as a plot of the relationships among two (or more) variables. It's especially confusing in this context, as we'll frequently be drawing this second kind of graph when exploring the properties of networks &ndash; the *other* kind of graph.\n",
    "\n",
    "For this reason we'll try to use the term \"network\" for the node-and-edge structure, and keep \"graph\" for the line-and-error-bar structure. It's important to bear in mind, though, that terms like \"network\" and \"graph\" as well as \"network science\" and \"graph theory\", can be used somewhat interchangeably."
   ]
  },
  {
   "cell_type": "markdown",
   "metadata": {},
   "source": [
    "## <span id=\"sec_concepts_networks_building\"></span> Building networks in `networkx`"
   ]
  },
  {
   "cell_type": "markdown",
   "metadata": {},
   "source": [
    "Since we're concerned with using Python to build networks, we can start by introducing the core Python package `networkx`. `networkx` provides a collection of classes and algorithms for performing network science. It's a very complicated piece of software with a lot of fascinating and useful features that we'll introduce and explore as we go along. For the moment, though, we'll start with the really basic functionality.\n",
    "\n",
    "As well as `networkx`, we need some other packages. `numpy` is the Python standard mathematical library that provides a host of functions and capabilities that find application everfywhere in network science. To help visualise the networks we build we use `matplotlib`, which is the standard Python package for drawing scientific diagrams. Again, it's a frighteningly useful piece of kit that we'll gradually exercise more and more. We'll also make use of `seaborn`, which modifies `matplotlib` with better colour schemes and the like. Bringing all these into the notebook and making them work in-line involves the following Python code: "
   ]
  },
  {
   "cell_type": "code",
   "execution_count": 2,
   "metadata": {
    "collapsed": false
   },
   "outputs": [
    {
     "name": "stderr",
     "output_type": "stream",
     "text": [
      "/Users/sd/research/writing/complex-networks-complex-processes/notebook/cncp/lib/python2.7/site-packages/matplotlib/__init__.py:878: UserWarning: axes.color_cycle is deprecated and replaced with axes.prop_cycle; please use the latter.\n",
      "  warnings.warn(self.msg_depr % (key, alt_key))\n"
     ]
    }
   ],
   "source": [
    "import networkx                                # network representation and manipulation\n",
    "import numpy                                   # standard mathematical and statistical functions\n",
    "\n",
    "import matplotlib as mpl                       # standard scientific drawing package\n",
    "%matplotlib inline\n",
    "%config InlineBackend.figure_format = 'svg'\n",
    "import matplotlib.pyplot as plt                # matplotlib extensions\n",
    "import matplotlib.cm as cmap                   # ...and colourmaps\n",
    "import seaborn                                 # ...and better colour schemes and other goodies"
   ]
  },
  {
   "cell_type": "markdown",
   "metadata": {},
   "source": [
    "`networkx` represents networks using a class called `Graph` &ndash; slightly annoying given the discussion [above](#sec_concepts_networks_graphs), but that's the way things turn out. To build a network, we simply build an instance of this class:"
   ]
  },
  {
   "cell_type": "code",
   "execution_count": 3,
   "metadata": {
    "collapsed": true
   },
   "outputs": [],
   "source": [
    "g = networkx.Graph()"
   ]
  },
  {
   "cell_type": "markdown",
   "metadata": {},
   "source": [
    "This results in an empty network with no nodes or edges. We can add nodes individually using the `add_node()` method, giving each node a label if we want to:"
   ]
  },
  {
   "cell_type": "code",
   "execution_count": 4,
   "metadata": {
    "collapsed": true
   },
   "outputs": [],
   "source": [
    "g.add_node(1)\n",
    "g.add_node(2)"
   ]
  },
  {
   "cell_type": "markdown",
   "metadata": {},
   "source": [
    "This results in a network with two nodes, so of order 2 &ndash; which we can check:"
   ]
  },
  {
   "cell_type": "code",
   "execution_count": 5,
   "metadata": {
    "collapsed": false
   },
   "outputs": [
    {
     "name": "stdout",
     "output_type": "stream",
     "text": [
      "2\n"
     ]
    }
   ],
   "source": [
    "print g.order()"
   ]
  },
  {
   "cell_type": "markdown",
   "metadata": {},
   "source": [
    "The network still doesn't have an edges, so let's add one:"
   ]
  },
  {
   "cell_type": "code",
   "execution_count": 6,
   "metadata": {
    "collapsed": true
   },
   "outputs": [],
   "source": [
    "g.add_edge(1, 2)"
   ]
  },
  {
   "cell_type": "markdown",
   "metadata": {},
   "source": [
    "This shows why we need to label the nodes: so we have a way of identifying them when adding edges.\n",
    "\n",
    "What does this network look like? We'll let `networkx` show us:"
   ]
  },
  {
   "cell_type": "code",
   "execution_count": 7,
   "metadata": {
    "collapsed": false
   },
   "outputs": [
    {
     "data": {
      "image/svg+xml": [
       "<?xml version=\"1.0\" encoding=\"utf-8\" standalone=\"no\"?>\n",
       "<!DOCTYPE svg PUBLIC \"-//W3C//DTD SVG 1.1//EN\"\n",
       "  \"http://www.w3.org/Graphics/SVG/1.1/DTD/svg11.dtd\">\n",
       "<!-- Created with matplotlib (http://matplotlib.org/) -->\n",
       "<svg height=\"202pt\" version=\"1.1\" viewBox=\"0 0 221 202\" width=\"221pt\" xmlns=\"http://www.w3.org/2000/svg\" xmlns:xlink=\"http://www.w3.org/1999/xlink\">\n",
       " <defs>\n",
       "  <style type=\"text/css\">\n",
       "*{stroke-linecap:butt;stroke-linejoin:round;stroke-miterlimit:100000;}\n",
       "  </style>\n",
       " </defs>\n",
       " <g id=\"figure_1\">\n",
       "  <g id=\"patch_1\">\n",
       "   <path d=\"M 0 202.517969 \n",
       "L 221.051562 202.517969 \n",
       "L 221.051562 0 \n",
       "L 0 0 \n",
       "z\n",
       "\" style=\"fill:#ffffff;\"/>\n",
       "  </g>\n",
       "  <g id=\"axes_1\">\n",
       "   <g id=\"LineCollection_1\">\n",
       "    <path clip-path=\"url(#p18aa722f25)\" d=\"M 182.987277 73.948012 \n",
       "L 63.415848 123.372656 \n",
       "\" style=\"fill:none;stroke:#000000;\"/>\n",
       "   </g>\n",
       "   <g id=\"PathCollection_1\">\n",
       "    <defs>\n",
       "     <path d=\"M 0 10 \n",
       "C 2.652031 10 5.195799 8.946337 7.071068 7.071068 \n",
       "C 8.946337 5.195799 10 2.652031 10 0 \n",
       "C 10 -2.652031 8.946337 -5.195799 7.071068 -7.071068 \n",
       "C 5.195799 -8.946337 2.652031 -10 0 -10 \n",
       "C -2.652031 -10 -5.195799 -8.946337 -7.071068 -7.071068 \n",
       "C -8.946337 -5.195799 -10 -2.652031 -10 0 \n",
       "C -10 2.652031 -8.946337 5.195799 -7.071068 7.071068 \n",
       "C -5.195799 8.946337 -2.652031 10 0 10 \n",
       "z\n",
       "\" id=\"mf94c8b3973\" style=\"stroke:#eeeeee;stroke-width:0.3;\"/>\n",
       "    </defs>\n",
       "    <g clip-path=\"url(#p18aa722f25)\">\n",
       "     <use style=\"fill:#ff0000;stroke:#eeeeee;stroke-width:0.3;\" x=\"182.987276786\" xlink:href=\"#mf94c8b3973\" y=\"73.9480115222\"/>\n",
       "     <use style=\"fill:#ff0000;stroke:#eeeeee;stroke-width:0.3;\" x=\"63.4158482143\" xlink:href=\"#mf94c8b3973\" y=\"123.37265625\"/>\n",
       "    </g>\n",
       "   </g>\n",
       "   <g id=\"text_1\">\n",
       "    <g clip-path=\"url(#p18aa722f25)\">\n",
       "     <!-- 1 -->\n",
       "     <defs>\n",
       "      <path d=\"M 37.25 0 \n",
       "L 28.46875 0 \n",
       "L 28.46875 56 \n",
       "Q 25.296875 52.984375 20.140625 49.953125 \n",
       "Q 14.984375 46.921875 10.890625 45.40625 \n",
       "L 10.890625 53.90625 \n",
       "Q 18.265625 57.375 23.78125 62.296875 \n",
       "Q 29.296875 67.234375 31.59375 71.875 \n",
       "L 37.25 71.875 \n",
       "z\n",
       "\" id=\"ArialMT-31\"/>\n",
       "     </defs>\n",
       "     <g transform=\"translate(179.650714286 77.0501990222)scale(0.12 -0.12)\">\n",
       "      <use xlink:href=\"#ArialMT-31\"/>\n",
       "     </g>\n",
       "    </g>\n",
       "   </g>\n",
       "   <g id=\"text_2\">\n",
       "    <g clip-path=\"url(#p18aa722f25)\">\n",
       "     <!-- 2 -->\n",
       "     <defs>\n",
       "      <path d=\"M 50.34375 8.453125 \n",
       "L 50.34375 0 \n",
       "L 3.03125 0 \n",
       "Q 2.9375 3.171875 4.046875 6.109375 \n",
       "Q 5.859375 10.9375 9.828125 15.625 \n",
       "Q 13.8125 20.3125 21.34375 26.46875 \n",
       "Q 33.015625 36.03125 37.109375 41.625 \n",
       "Q 41.21875 47.21875 41.21875 52.203125 \n",
       "Q 41.21875 57.421875 37.46875 61 \n",
       "Q 33.734375 64.59375 27.734375 64.59375 \n",
       "Q 21.390625 64.59375 17.578125 60.78125 \n",
       "Q 13.765625 56.984375 13.71875 50.25 \n",
       "L 4.6875 51.171875 \n",
       "Q 5.609375 61.28125 11.65625 66.578125 \n",
       "Q 17.71875 71.875 27.9375 71.875 \n",
       "Q 38.234375 71.875 44.234375 66.15625 \n",
       "Q 50.25 60.453125 50.25 52 \n",
       "Q 50.25 47.703125 48.484375 43.546875 \n",
       "Q 46.734375 39.40625 42.65625 34.8125 \n",
       "Q 38.578125 30.21875 29.109375 22.21875 \n",
       "Q 21.1875 15.578125 18.9375 13.203125 \n",
       "Q 16.703125 10.84375 15.234375 8.453125 \n",
       "z\n",
       "\" id=\"ArialMT-32\"/>\n",
       "     </defs>\n",
       "     <g transform=\"translate(60.0792857143 126.47484375)scale(0.12 -0.12)\">\n",
       "      <use xlink:href=\"#ArialMT-32\"/>\n",
       "     </g>\n",
       "    </g>\n",
       "   </g>\n",
       "  </g>\n",
       " </g>\n",
       " <defs>\n",
       "  <clipPath id=\"p18aa722f25\">\n",
       "   <rect height=\"167.4\" width=\"167.4\" x=\"39.5015625\" y=\"11.77265625\"/>\n",
       "  </clipPath>\n",
       " </defs>\n",
       "</svg>\n"
      ],
      "text/plain": [
       "<matplotlib.figure.Figure at 0x10b62edd0>"
      ]
     },
     "metadata": {},
     "output_type": "display_data"
    }
   ],
   "source": [
    "# create a figure with no axes\n",
    "fig = plt.figure(figsize = (3, 3))   # an in-line figure\n",
    "plt.gca().set_axis_off()             # turn off the axes, since they mean nothing for networks\n",
    "\n",
    "# use MetworkX to draw the network\n",
    "networkx.draw_networkx(g, node_size = 400)\n",
    "\n",
    "_ = plt.show()"
   ]
  },
  {
   "cell_type": "markdown",
   "metadata": {},
   "source": [
    "This was a three-stage process. First we create a figure in the notebook and turn its axes off, since these make no sense when drawing networks. (They make perfect sense when drawing other scientific figures, of course.) We then use the `draw_networkx()` function to draw the network, providing an optioanl parameter that makes the node markers larger. Finally we \"show\" the figure.\n",
    "\n",
    "Like a lot of `networkx` functions, `draw_networkx()` is extremely flexible and provides a lot of optional parameters to control exactly how it operates: we'll see more examples below. Internally, it uses `matplotlib` to actually do the drawing.\n",
    "\n",
    "Let's add some more nodes and edges. Rather than add them one by one, we can add a set of nodes from a collection such as a list or array; similarly, for edges, we can provide list of pairs of node names:"
   ]
  },
  {
   "cell_type": "code",
   "execution_count": 8,
   "metadata": {
    "collapsed": false
   },
   "outputs": [],
   "source": [
    "g.add_nodes_from([3, 4])\n",
    "g.add_edges_from([(2, 3), (2, 4)])"
   ]
  },
  {
   "cell_type": "markdown",
   "metadata": {},
   "source": [
    "If we re-draw the network using the same approach as before, we can see the new nodes and edges:"
   ]
  },
  {
   "cell_type": "code",
   "execution_count": 9,
   "metadata": {
    "collapsed": false
   },
   "outputs": [
    {
     "data": {
      "image/svg+xml": [
       "<?xml version=\"1.0\" encoding=\"utf-8\" standalone=\"no\"?>\n",
       "<!DOCTYPE svg PUBLIC \"-//W3C//DTD SVG 1.1//EN\"\n",
       "  \"http://www.w3.org/Graphics/SVG/1.1/DTD/svg11.dtd\">\n",
       "<!-- Created with matplotlib (http://matplotlib.org/) -->\n",
       "<svg height=\"202pt\" version=\"1.1\" viewBox=\"0 0 215 202\" width=\"215pt\" xmlns=\"http://www.w3.org/2000/svg\" xmlns:xlink=\"http://www.w3.org/1999/xlink\">\n",
       " <defs>\n",
       "  <style type=\"text/css\">\n",
       "*{stroke-linecap:butt;stroke-linejoin:round;stroke-miterlimit:100000;}\n",
       "  </style>\n",
       " </defs>\n",
       " <g id=\"figure_1\">\n",
       "  <g id=\"patch_1\">\n",
       "   <path d=\"M 0 202.517969 \n",
       "L 215.490625 202.517969 \n",
       "L 215.490625 0 \n",
       "L 0 0 \n",
       "z\n",
       "\" style=\"fill:#ffffff;\"/>\n",
       "  </g>\n",
       "  <g id=\"axes_1\">\n",
       "   <g id=\"LineCollection_1\">\n",
       "    <path clip-path=\"url(#p85150d1ae9)\" d=\"M 57.854911 35.686942 \n",
       "L 104.38944 86.827736 \n",
       "\" style=\"fill:none;stroke:#000000;\"/>\n",
       "    <path clip-path=\"url(#p85150d1ae9)\" d=\"M 104.38944 86.827736 \n",
       "L 94.468744 155.258371 \n",
       "\" style=\"fill:none;stroke:#000000;\"/>\n",
       "    <path clip-path=\"url(#p85150d1ae9)\" d=\"M 104.38944 86.827736 \n",
       "L 169.302001 67.276932 \n",
       "\" style=\"fill:none;stroke:#000000;\"/>\n",
       "   </g>\n",
       "   <g id=\"PathCollection_1\">\n",
       "    <defs>\n",
       "     <path d=\"M 0 10 \n",
       "C 2.652031 10 5.195799 8.946337 7.071068 7.071068 \n",
       "C 8.946337 5.195799 10 2.652031 10 0 \n",
       "C 10 -2.652031 8.946337 -5.195799 7.071068 -7.071068 \n",
       "C 5.195799 -8.946337 2.652031 -10 0 -10 \n",
       "C -2.652031 -10 -5.195799 -8.946337 -7.071068 -7.071068 \n",
       "C -8.946337 -5.195799 -10 -2.652031 -10 0 \n",
       "C -10 2.652031 -8.946337 5.195799 -7.071068 7.071068 \n",
       "C -5.195799 8.946337 -2.652031 10 0 10 \n",
       "z\n",
       "\" id=\"mf657844fb7\" style=\"stroke:#eeeeee;stroke-width:0.3;\"/>\n",
       "    </defs>\n",
       "    <g clip-path=\"url(#p85150d1ae9)\">\n",
       "     <use style=\"fill:#ff0000;stroke:#eeeeee;stroke-width:0.3;\" x=\"57.8549107143\" xlink:href=\"#mf657844fb7\" y=\"35.6869419643\"/>\n",
       "     <use style=\"fill:#ff0000;stroke:#eeeeee;stroke-width:0.3;\" x=\"104.389439675\" xlink:href=\"#mf657844fb7\" y=\"86.8277363757\"/>\n",
       "     <use style=\"fill:#ff0000;stroke:#eeeeee;stroke-width:0.3;\" x=\"94.4687439357\" xlink:href=\"#mf657844fb7\" y=\"155.258370536\"/>\n",
       "     <use style=\"fill:#ff0000;stroke:#eeeeee;stroke-width:0.3;\" x=\"169.302001437\" xlink:href=\"#mf657844fb7\" y=\"67.2769321598\"/>\n",
       "    </g>\n",
       "   </g>\n",
       "   <g id=\"text_1\">\n",
       "    <g clip-path=\"url(#p85150d1ae9)\">\n",
       "     <!-- 1 -->\n",
       "     <defs>\n",
       "      <path d=\"M 37.25 0 \n",
       "L 28.46875 0 \n",
       "L 28.46875 56 \n",
       "Q 25.296875 52.984375 20.140625 49.953125 \n",
       "Q 14.984375 46.921875 10.890625 45.40625 \n",
       "L 10.890625 53.90625 \n",
       "Q 18.265625 57.375 23.78125 62.296875 \n",
       "Q 29.296875 67.234375 31.59375 71.875 \n",
       "L 37.25 71.875 \n",
       "z\n",
       "\" id=\"ArialMT-31\"/>\n",
       "     </defs>\n",
       "     <g transform=\"translate(54.5183482143 38.7891294643)scale(0.12 -0.12)\">\n",
       "      <use xlink:href=\"#ArialMT-31\"/>\n",
       "     </g>\n",
       "    </g>\n",
       "   </g>\n",
       "   <g id=\"text_2\">\n",
       "    <g clip-path=\"url(#p85150d1ae9)\">\n",
       "     <!-- 2 -->\n",
       "     <defs>\n",
       "      <path d=\"M 50.34375 8.453125 \n",
       "L 50.34375 0 \n",
       "L 3.03125 0 \n",
       "Q 2.9375 3.171875 4.046875 6.109375 \n",
       "Q 5.859375 10.9375 9.828125 15.625 \n",
       "Q 13.8125 20.3125 21.34375 26.46875 \n",
       "Q 33.015625 36.03125 37.109375 41.625 \n",
       "Q 41.21875 47.21875 41.21875 52.203125 \n",
       "Q 41.21875 57.421875 37.46875 61 \n",
       "Q 33.734375 64.59375 27.734375 64.59375 \n",
       "Q 21.390625 64.59375 17.578125 60.78125 \n",
       "Q 13.765625 56.984375 13.71875 50.25 \n",
       "L 4.6875 51.171875 \n",
       "Q 5.609375 61.28125 11.65625 66.578125 \n",
       "Q 17.71875 71.875 27.9375 71.875 \n",
       "Q 38.234375 71.875 44.234375 66.15625 \n",
       "Q 50.25 60.453125 50.25 52 \n",
       "Q 50.25 47.703125 48.484375 43.546875 \n",
       "Q 46.734375 39.40625 42.65625 34.8125 \n",
       "Q 38.578125 30.21875 29.109375 22.21875 \n",
       "Q 21.1875 15.578125 18.9375 13.203125 \n",
       "Q 16.703125 10.84375 15.234375 8.453125 \n",
       "z\n",
       "\" id=\"ArialMT-32\"/>\n",
       "     </defs>\n",
       "     <g transform=\"translate(101.052877175 89.9299238757)scale(0.12 -0.12)\">\n",
       "      <use xlink:href=\"#ArialMT-32\"/>\n",
       "     </g>\n",
       "    </g>\n",
       "   </g>\n",
       "   <g id=\"text_3\">\n",
       "    <g clip-path=\"url(#p85150d1ae9)\">\n",
       "     <!-- 3 -->\n",
       "     <defs>\n",
       "      <path d=\"M 4.203125 18.890625 \n",
       "L 12.984375 20.0625 \n",
       "Q 14.5 12.59375 18.140625 9.296875 \n",
       "Q 21.78125 6 27 6 \n",
       "Q 33.203125 6 37.46875 10.296875 \n",
       "Q 41.75 14.59375 41.75 20.953125 \n",
       "Q 41.75 27 37.796875 30.921875 \n",
       "Q 33.84375 34.859375 27.734375 34.859375 \n",
       "Q 25.25 34.859375 21.53125 33.890625 \n",
       "L 22.515625 41.609375 \n",
       "Q 23.390625 41.5 23.921875 41.5 \n",
       "Q 29.546875 41.5 34.03125 44.421875 \n",
       "Q 38.53125 47.359375 38.53125 53.46875 \n",
       "Q 38.53125 58.296875 35.25 61.46875 \n",
       "Q 31.984375 64.65625 26.8125 64.65625 \n",
       "Q 21.6875 64.65625 18.265625 61.421875 \n",
       "Q 14.84375 58.203125 13.875 51.765625 \n",
       "L 5.078125 53.328125 \n",
       "Q 6.6875 62.15625 12.390625 67.015625 \n",
       "Q 18.109375 71.875 26.609375 71.875 \n",
       "Q 32.46875 71.875 37.390625 69.359375 \n",
       "Q 42.328125 66.84375 44.9375 62.5 \n",
       "Q 47.5625 58.15625 47.5625 53.265625 \n",
       "Q 47.5625 48.640625 45.0625 44.828125 \n",
       "Q 42.578125 41.015625 37.703125 38.765625 \n",
       "Q 44.046875 37.3125 47.5625 32.6875 \n",
       "Q 51.078125 28.078125 51.078125 21.140625 \n",
       "Q 51.078125 11.765625 44.234375 5.25 \n",
       "Q 37.40625 -1.265625 26.953125 -1.265625 \n",
       "Q 17.53125 -1.265625 11.296875 4.34375 \n",
       "Q 5.078125 9.96875 4.203125 18.890625 \n",
       "\" id=\"ArialMT-33\"/>\n",
       "     </defs>\n",
       "     <g transform=\"translate(91.1321814357 158.360558036)scale(0.12 -0.12)\">\n",
       "      <use xlink:href=\"#ArialMT-33\"/>\n",
       "     </g>\n",
       "    </g>\n",
       "   </g>\n",
       "   <g id=\"text_4\">\n",
       "    <g clip-path=\"url(#p85150d1ae9)\">\n",
       "     <!-- 4 -->\n",
       "     <defs>\n",
       "      <path d=\"M 32.328125 0 \n",
       "L 32.328125 17.140625 \n",
       "L 1.265625 17.140625 \n",
       "L 1.265625 25.203125 \n",
       "L 33.9375 71.578125 \n",
       "L 41.109375 71.578125 \n",
       "L 41.109375 25.203125 \n",
       "L 50.78125 25.203125 \n",
       "L 50.78125 17.140625 \n",
       "L 41.109375 17.140625 \n",
       "L 41.109375 0 \n",
       "z\n",
       "M 32.328125 25.203125 \n",
       "L 32.328125 57.46875 \n",
       "L 9.90625 25.203125 \n",
       "z\n",
       "\" id=\"ArialMT-34\"/>\n",
       "     </defs>\n",
       "     <g transform=\"translate(165.965438937 70.3791196598)scale(0.12 -0.12)\">\n",
       "      <use xlink:href=\"#ArialMT-34\"/>\n",
       "     </g>\n",
       "    </g>\n",
       "   </g>\n",
       "  </g>\n",
       " </g>\n",
       " <defs>\n",
       "  <clipPath id=\"p85150d1ae9\">\n",
       "   <rect height=\"167.4\" width=\"167.4\" x=\"33.940625\" y=\"11.77265625\"/>\n",
       "  </clipPath>\n",
       " </defs>\n",
       "</svg>\n"
      ],
      "text/plain": [
       "<matplotlib.figure.Figure at 0x10b7bb410>"
      ]
     },
     "metadata": {},
     "output_type": "display_data"
    }
   ],
   "source": [
    "fig = plt.figure(figsize = (3, 3))\n",
    "plt.gca().set_axis_off()\n",
    "networkx.draw_networkx(g, node_size = 400)\n",
    "\n",
    "_ = plt.show()"
   ]
  },
  {
   "cell_type": "markdown",
   "metadata": {},
   "source": [
    "Having built a network, we might want to query it. We can do this in several ways, and as an example let's get the **neighbourhood** of node 2, the collection of nodes it's adjacent to:"
   ]
  },
  {
   "cell_type": "code",
   "execution_count": 16,
   "metadata": {
    "collapsed": false
   },
   "outputs": [
    {
     "name": "stdout",
     "output_type": "stream",
     "text": [
      "Neighbours of node 2: [1, 3, 4]\n"
     ]
    }
   ],
   "source": [
    "print \"Neighbours of node {n}: {ns}\".format(n = 2,\n",
    "                                            ns = g.neighbors(2))"
   ]
  },
  {
   "cell_type": "markdown",
   "metadata": {},
   "source": [
    "We might also want to enumerate all the nodes, and all the edges:"
   ]
  },
  {
   "cell_type": "code",
   "execution_count": 11,
   "metadata": {
    "collapsed": false
   },
   "outputs": [
    {
     "name": "stdout",
     "output_type": "stream",
     "text": [
      "Nodes: [1, 2, 3, 4]\n",
      "Edges: [(1, 2), (2, 3), (2, 4)]\n"
     ]
    }
   ],
   "source": [
    "print \"Nodes: {ns}\".format(ns = g.nodes())\n",
    "print \"Edges: {es}\".format(es = g.edges())"
   ]
  },
  {
   "cell_type": "markdown",
   "metadata": {},
   "source": [
    "Or maybe just the edges **incident** on node 1:"
   ]
  },
  {
   "cell_type": "code",
   "execution_count": 12,
   "metadata": {
    "collapsed": false
   },
   "outputs": [
    {
     "name": "stdout",
     "output_type": "stream",
     "text": [
      "Edges adjacent to node 1: [(1, 2)]\n"
     ]
    }
   ],
   "source": [
    "print \"Edges adjacent to node {n}: {es}\".format(n = 1,\n",
    "                                                es = g.edges(1))"
   ]
  },
  {
   "cell_type": "markdown",
   "metadata": {},
   "source": [
    "This is enough to show the style of `networkx` coding. We can now move away from such toy examples and onto networks of more interest. "
   ]
  },
  {
   "cell_type": "markdown",
   "metadata": {},
   "source": [
    "## <span id=\"sec_concepts_networks_lattice\"></span> Lattices"
   ]
  },
  {
   "cell_type": "markdown",
   "metadata": {},
   "source": [
    "Perhaps the simplest kind of network that actually might be of interest is a regular two-dimensional lattice or mesh. Think of a chess board, consisting of an eight-by-eight grid of squares. If we conside the intersections of the corners of the squares, with each other and with the edge of the board, forming the vertices of a 9x9 lattice. (An even better example is a [go board](https://en.wikipedia.org/wiki/Go_%28game%29), which is a 19x19 lattice of points on which one can play stones.)\n",
    "\n",
    "We can use `networkx` to define a lattice, building on the approach we used [above](#sec_concepts_networks_building). This consists of two parts: creating a network with the right number of nodes, and then linking them together with the right number of edges. The latter part is usually more subtle than the former. Let's first prtesent the `networkx` code to build a two-dimensional lattice, and then dig into exactly what we've done:"
   ]
  },
  {
   "cell_type": "code",
   "execution_count": 13,
   "metadata": {
    "collapsed": true
   },
   "outputs": [],
   "source": [
    "def lattice_graph( lattice_rows, lattice_columns ):\n",
    "    \"\"\"Create a regular 2D lattice with the given dimensions.\n",
    "    \n",
    "    :param lattice_rows: the number of rows in the lattice\n",
    "    :param lattice_cols: the nmumber of columns in the lattice\n",
    "    :returns: the lattice\"\"\"\n",
    "    \n",
    "    # create the network and populate it with nodes indexed by a single integer\n",
    "    lattice = networkx.Graph()\n",
    "    lattice.add_nodes_from(xrange(lattice_rows * lattice_columns))\n",
    "    \n",
    "    # add edges to the main body of the lattice\n",
    "    for r in xrange(0, lattice_rows - 1):             # sweep top-left to bottom-right\n",
    "        for c in xrange(0,lattice_columns - 1):\n",
    "            i = r * lattice_columns + c\n",
    "            lattice.add_edge(i, i + 1)                # edge to right neighbour\n",
    "            lattice.add_edge(i, i + lattice_columns)  # edge to south neighbour (row below)\n",
    "        \n",
    "    # add edges along the right-hand column\n",
    "    for r in xrange(0, lattice_rows - 1):\n",
    "        i = (r + 1) * lattice_columns - 1    \n",
    "        lattice.add_edge(i, i + lattice_columns)      # edge to south neighbour (row below)\n",
    "        \n",
    "    # add edges along the bottom (south) edge\n",
    "    for c in xrange(0, lattice_columns - 1):\n",
    "        i = (lattice_rows - 1) * lattice_columns + c        \n",
    "        lattice.add_edge(i, i + 1)                    # edge to right neighbour\n",
    "        \n",
    "    return lattice"
   ]
  },
  {
   "cell_type": "markdown",
   "metadata": {},
   "source": [
    "The first thing to note is that we've named the function `lattice_graph()`, which immediately contradicts what we said [above](#sec_concepts_networks_graphs) about referring to these structures as \"networks\". But `networkx` itself includes lots of functions for generating networks that follow this naming convention, so it seems sensible to be consistent with that even at the risk of confusion. \n",
    "\n",
    "To build the lattice, we first create an empty network and populate it with nodes. We number the nodes in a predictable fashion so we can refer to them later. We then add edges. For all except the last column and row, we add an edge to the east and south neighbours of each node: a moment's though should convince you that this fleshes out most of the lattice. We then add edges to complete the lattice in the final right-hand column and bottom row, which costs respectively of only north-south and only east-west edges.\n",
    "\n",
    "If we compare this to the toy example from [above](#sec_concepts_networks_building), the only difference is that for the lattice we *calculated* the endpoints of each edge according to their indices, since there's a straightforward relationship between index and edge. This of course has the advantage that it works for lattices of arbitrary size, but is a technique that only works this weay for **regular** networks where there's some definite deterministic pattern to be captured. [Later](er-networks.ipynb) we'll see similar techniques applied to stochastic patterns, where the exact edges that are connected are selected randomly but nevertheless in a structured fashion that we can code in an algorithm. \n",
    "\n",
    "Constructing the lattice is perhaps a slightly more involved process than you might have expected, but we have to be careful that we add all the edges we want *and only those edges*. Spefifically, although all the non-edge nodes have links going in four directions, there's only one edge between each pair of nodes, and we have to be careful not to add too many. Notice how `networkx` manipulates the network. We give nodes unique indices (integers in this case) and then use these to identify the nodes at the ends of each edge we add.\n",
    "\n",
    "We can now use our function to create a network with whatever dimensions we desire:"
   ]
  },
  {
   "cell_type": "code",
   "execution_count": 14,
   "metadata": {
    "collapsed": false
   },
   "outputs": [],
   "source": [
    "mesh = lattice_graph(10, 10)"
   ]
  },
  {
   "cell_type": "markdown",
   "metadata": {},
   "source": [
    "We can perform all the operastions we saw above, for example to query the neighbourhood of a node to see what its neighbours are:"
   ]
  },
  {
   "cell_type": "code",
   "execution_count": 18,
   "metadata": {
    "collapsed": false
   },
   "outputs": [
    {
     "name": "stdout",
     "output_type": "stream",
     "text": [
      "Neighbours of node 2: [1, 3, 12]\n"
     ]
    }
   ],
   "source": [
    "print \"Neighbours of node {n}: {ns}\".format(n = 2,\n",
    "                                            ns = mesh.neighbors(2))"
   ]
  },
  {
   "cell_type": "markdown",
   "metadata": {},
   "source": [
    "Does this make sense? Node 2 is the second column of the first row, so it has 1 and 3 as left and right neighbours. The lattice has 10 columns, so the same column of the next row is 2 + 10 = 12. This is an important sanity check, which only works because we know (from having access to the source code of the function) that it uses this particular numbering scheme."
   ]
  }
 ],
 "metadata": {
  "kernelspec": {
   "display_name": "Python 2",
   "language": "python",
   "name": "python2"
  },
  "language_info": {
   "codemirror_mode": {
    "name": "ipython",
    "version": 2
   },
   "file_extension": ".py",
   "mimetype": "text/x-python",
   "name": "python",
   "nbconvert_exporter": "python",
   "pygments_lexer": "ipython2",
   "version": "2.7.13"
  }
 },
 "nbformat": 4,
 "nbformat_minor": 0
}
