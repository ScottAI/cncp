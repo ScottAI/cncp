{
 "cells": [
  {
   "cell_type": "markdown",
   "metadata": {},
   "source": [
    "# <span id=\"chap_epidemic_synchronous\"></span> Synchronous simulation"
   ]
  },
  {
   "cell_type": "markdown",
   "metadata": {},
   "source": [
    "We now have all the bits we need to build an epidemic simulation. In this chapter we'll develop a simulation of SIR in discrete time &ndash; that is to say, modelling the world at the granularity of some interval of time in which lots of independent events can occur. We'll show how this simulation is put together using the `epydemic` library, making use of the compartmented model we coded [earlier](software-epydemic.ipynb). And we'll discuss some of the advantages of this approach &ndash; but also its limitations, whcih lead us into continuous-time suiimulation of the same model"
   ]
  },
  {
   "cell_type": "markdown",
   "metadata": {},
   "source": [
    "## <span id=\"sec_epidemic_synchronous_basics\"></span> Basic discrete-time simulation"
   ]
  },
  {
   "cell_type": "markdown",
   "metadata": {},
   "source": [
    "Recall from our [earlier discussion](epidemic-simulation.ipynb) that discrete-event simulators have to make three key decisions:\n",
    "\n",
    "1. *when* (in simulation time) does the next event occur?,\n",
    "1. *where* in the network does it occur?, and\n",
    "1. *which* event is it that occurs?\n",
    "\n",
    "A discrete-time simulation performs these decisions in a simulation loop that looks roughly as follows. At each timestep, the simulation collects all the places in which an event *might* occur (the \"where\" question). It then, for each of these places, decides *whether* the event occurs or not (\"when\") and, if it decides that it does, executes the event (\"which\"). It then moves to the next moment and repeats. Executing an event will typically change the places where future events can occur.\n",
    "\n",
    "A discrete-time simulation is sometimes referred to as a **synchronous** simulation, because all the events in a given moment are performed in a batch."
   ]
  },
  {
   "cell_type": "markdown",
   "metadata": {},
   "source": [
    "## <span id=\"sec_epidemic_synchronous_epydemic\"></span> Epidemic simulation in discrete time"
   ]
  },
  {
   "cell_type": "markdown",
   "metadata": {},
   "source": [
    "Let's now build the code we need to create a synchronous simulation of an epidemic. We'll be making use of the `epydemic` library, and specifically its descriptions of [compartmented disease models](software-epydemic.ipynb). Before we do that, however, we need to construct a general simulation framework that we can then specialise to perform the functions we need.\n",
    "\n",
    "`epydemic` represents synchronous simulation using a small class hierarchy, and in this chapter we'll fill-out the part outlined in red in the following UML diagram:"
   ]
  },
  {
   "cell_type": "markdown",
   "metadata": {},
   "source": [
    "<img src=\"synchronous-dynamics-uml.svg\">"
   ]
  },
  {
   "cell_type": "markdown",
   "metadata": {},
   "source": [
    "(Actually what we'll describe is a slightly simpler version of `epydemic` for ease of explanation. But it captures all the main points, and we'll come back to the code when we need the more advanced features.)\n",
    "\n",
    "The decomposition of the three classes is as follows. `epydemic.Dynamics` defines the basic functionality of a discrete-event simulation, mainly concerning the way we get events to execute. `epydemic.SynchronousDynamics` specialises this framework to run in synchronous time, collecting together all the events for a given timestep, but without specifying exactly where the events come from. `epydemic.CompartmentedSynchronousDynamics` then binds the source of events to a compartmented model. (We describe *why* we do it this way [below](#sec_epidemic_synchronous_pause).)"
   ]
  },
  {
   "cell_type": "code",
   "execution_count": 1,
   "metadata": {
    "collapsed": false
   },
   "outputs": [
    {
     "name": "stderr",
     "output_type": "stream",
     "text": [
      "/Users/sd/programming/cncp/cncp/lib/python2.7/site-packages/matplotlib/__init__.py:878: UserWarning: axes.color_cycle is deprecated and replaced with axes.prop_cycle; please use the latter.\n",
      "  warnings.warn(self.msg_depr % (key, alt_key))\n"
     ]
    }
   ],
   "source": [
    "import networkx\n",
    "import epydemic\n",
    "import epyc\n",
    "import math\n",
    "import numpy\n",
    "from copy import copy\n",
    "\n",
    "import pandas as pd\n",
    "\n",
    "import matplotlib\n",
    "%matplotlib inline\n",
    "%config InlineBackend.figure_format = 'svg'\n",
    "import matplotlib.pyplot as plt\n",
    "import seaborn"
   ]
  },
  {
   "cell_type": "markdown",
   "metadata": {},
   "source": [
    "### <span id=\"sec_epidemic_synchronous_dynamics\"></span> Discrete-event simulation dynamics "
   ]
  },
  {
   "cell_type": "markdown",
   "metadata": {},
   "source": [
    "Let's begin with the basic discrete-event dynamics:"
   ]
  },
  {
   "cell_type": "code",
   "execution_count": 2,
   "metadata": {
    "collapsed": false
   },
   "outputs": [],
   "source": [
    "class Dynamics(epyc.Experiment, object):\n",
    "    '''A dynamical process over a network. This is the abstract base class\n",
    "    for implementing different kinds of dynamics as computational experiments\n",
    "    suitable for running under. Sub-classes provide synchronous and stochastic\n",
    "    (Gillespie) simulation dynamics.'''\n",
    "\n",
    "    # Additional metadata elements\n",
    "    TIME = 'simulation_time'      #: Metadata element holding the logical simulation end-time.\n",
    "    EVENTS = 'simulation_events'  #: Metadata element holding the number of events that happened.\n",
    "\n",
    "    # the default maximum simulation time\n",
    "    DEFAULT_MAX_TIME = 20000      #: Default maximum simulation time.\n",
    "    \n",
    "    def __init__( self, g = None ):\n",
    "        '''Create a dynamics, optionally initialised to run on the given network.\n",
    "        The network (if provided) is treated as a prototype that is copied before\n",
    "        each individual simulation experiment.\n",
    "        \n",
    "        :param g: prototype network (optional)'''\n",
    "        super(Dynamics, self).__init__()\n",
    "        self._graphPrototype = g                 # prototype copied for each run\n",
    "        self._graph = None                       # working copy of prototype\n",
    "        self._maxTime = self.DEFAULT_MAX_TIME    # time allowed until equilibrium\n",
    "\n",
    "    def network( self ):\n",
    "        '''Return the network this dynamics is running over.\n",
    "\n",
    "        :returns: the network'''\n",
    "        return self._graph\n",
    "\n",
    "    def setNetworkPrototype( self, g ):\n",
    "        '''Set the network the dynamics will run over. This will be\n",
    "        copied for each run of an individual experiment.\n",
    "\n",
    "        :param g: the network'''\n",
    "        self._graphPrototype = g\n",
    "\n",
    "    def setMaximumTime( self, t ):\n",
    "        '''Set the maximum default simulation time. The default is given\n",
    "        by :attr:`DEFAULT_MAX_TIME`.\n",
    "\n",
    "        param: t: the maximum time'''\n",
    "        self._maxTime = t\n",
    "        \n",
    "    def at_equilibrium( self, t ):\n",
    "        '''Test whether the model is an equilibrium. Override this method to provide\n",
    "        alternative and/or faster simulations.\n",
    "        \n",
    "        :param t: the current simulation timestep\n",
    "        :returns: True if we're done'''\n",
    "        return (t >= self._maxTime)\n",
    "\n",
    "    def setUp( self, params ): \n",
    "        '''Before each experiment, create a working copy of the prototype network.\n",
    "\n",
    "        :param params: parameters of the experiment'''\n",
    "\n",
    "        # perform the default setup\n",
    "        super(Dynamics, self).setUp(params)\n",
    "\n",
    "        # make a copy of the network prototype\n",
    "        self._graph = self._graphPrototype.copy()\n",
    "\n",
    "    def tearDown( self ):\n",
    "        '''At the end of each experiment, throw away the copy.'''\n",
    "\n",
    "        # perform the default tear-down\n",
    "        super(Dynamics, self).tearDown()\n",
    "\n",
    "        # throw away the worked-on model\n",
    "        self._graph = None\n",
    "\n",
    "    def eventDistribution( self, t ):\n",
    "        '''Return the event distribution, a sequence of (l, p, f) triples\n",
    "        where l is the :term:`locus` of the event, p is the probability of an\n",
    "        event occurring, and f is the :term:`event function` called to make it\n",
    "        happen. This method must be overridden in sub-classes.\n",
    "        \n",
    "        It is perfectly fine for an event to have a zero probability.\n",
    "\n",
    "        :param t: current time\n",
    "        :returns: the event distribution'''\n",
    "        raise NotYetImplemented('eventDistribution()')               "
   ]
  },
  {
   "cell_type": "markdown",
   "metadata": {},
   "source": [
    "We make the dynamics class a sub-class of `epyc.Experiment`. We haven't discussed `epyc` yet &ndash; and there's no need to right now &ndash; but it provides functions for running lots of repetitions of simulations with a single command. We'll make extensive use of this later when we scale-up simulations.\n",
    "\n",
    "An epidemic simulation takes place over a network. We can provide a network either to the constructor or by calling `setNetworkPrototpye()`. This network is referred to as the *prototype* network. Every time we run the simulation, the prototype is copied into a *working* netyork that we then run the epidemic process over. This means we can repeatedly use the *same* network for *different* instances of the *same* process. The `setUp()` and `tearDown()` methods create and destroy the working copy.\n",
    "\n",
    "We need to know when we should stop the simulation, and the most general answer to this is to have a maximum simulation time: that way we know we'll stop at some point. `setMaximumTime()` can be used to change this from the default value of 20000 timesteps; `at_equilibrium()` returns true if we have exceeded that time. Clearly we will often be able to do a better job of decoding whether a simulation has ended, in which case we should override this method.\n",
    "\n",
    "Finally, we need a source of events. We get these in terms of a probability distribution that consists of a list of triples consisting of a list of places for an event to occur in the network, the probability of that event happening at any given element place, and the event function that we call when the event occurs. The `eventDistribution()` method returns the distribution for the given time, and for the moment is left undefined.\n",
    "\n",
    "We should note what else this class *doesn't* provide: any way of actually selecting and executing events drawn from the distribution. For that we need to define a specific dynamics. "
   ]
  },
  {
   "cell_type": "markdown",
   "metadata": {},
   "source": [
    "### <span id=\"sec_epidemic_synchronous_synchronous_dynamics\"></span> Synchronous dynamics "
   ]
  },
  {
   "cell_type": "markdown",
   "metadata": {},
   "source": [
    "Any simulation dynamics has to answer the three questions we posed [earlier](#sec_epidemic_synchronous_basics): *when* does an event happen?, *where* in the network?, and *which* action is taken? Synchronous dynamics has simple answers to these questions. At each discrete timestep (*when*) it looks for all the places in the network where an event *could* occur (*where*), and choose whether or not an event occurs at each place according to the probabilities given to the events by the probability distribution (*which*).\n",
    "\n",
    "Providing this dynamics is simply a matter of turning this into code:"
   ]
  },
  {
   "cell_type": "code",
   "execution_count": 3,
   "metadata": {
    "collapsed": true
   },
   "outputs": [],
   "source": [
    "class SynchronousDynamics(Dynamics):\n",
    "    '''A dynamics that runs synchronously in discrete time, applying local\n",
    "    rules to each node in the network. These are simple to understand and\n",
    "    simple to code for many cases, but can be statistically inexact and slow\n",
    "    for large systems.'''\n",
    "\n",
    "    # additional metadata\n",
    "    TIMESTEPS_WITH_EVENTS = 'timesteps_with_events'  #: Metadata element holding the number timesteps that actually had events occur within them\n",
    "\n",
    "    def __init__( self, g = None ):\n",
    "        '''Create a dynamics, optionally initialised to run on the given prototype\n",
    "        network.\n",
    "        \n",
    "        :param g: prototype network to run over (optional)'''\n",
    "        super(SynchronousDynamics, self).__init__(g)\n",
    "\n",
    "    def do( self, params ):\n",
    "        '''Synchronous dynamics.\n",
    "        \n",
    "        :param params: the parameters of the simulation\n",
    "        :returns: a dict of experimental results'''\n",
    "        \n",
    "        # run the dynamics\n",
    "        g = self.network()\n",
    "        t = 0\n",
    "        events = 0\n",
    "        timestepEvents = 0\n",
    "        while not self.at_equilibrium(t):            \n",
    "            # retrieve all the events, their loci, probabilities, and event functions\n",
    "            dist = self.eventDistribution(t)\n",
    "\n",
    "            # run through all the events in the distribution\n",
    "            nev = 0\n",
    "            for (l, p, ef) in dist:\n",
    "                if p > 0.0:\n",
    "                    # run through every possible element on which this event may occur\n",
    "                    for e in copy(l.elements()):\n",
    "                        # test for occurrance of the event on this element\n",
    "                        if numpy.random.random() <= p:\n",
    "                            # yes, perform the event\n",
    "                            ef(self, t, g, e)\n",
    "                            \n",
    "                            # update the event count\n",
    "                            nev = nev + 1\n",
    "\n",
    "            # add the events to the count\n",
    "            events = events + nev\n",
    "            if nev > 0:\n",
    "                # we had events happen in this timestep\n",
    "                timestepEvents = timestepEvents + 1\n",
    "\n",
    "            # advance to the next timestep\n",
    "            t = t + 1\n",
    "\n",
    "        # add some more metadata\n",
    "        (self.metadata())[self.TIME] = t\n",
    "        (self.metadata())[self.EVENTS] = events\n",
    "        (self.metadata())[self.TIMESTEPS_WITH_EVENTS] = timestepEvents\n",
    "\n",
    "        # report results\n",
    "        rc = self.experimentalResults()\n",
    "        return rc\n"
   ]
  },
  {
   "cell_type": "markdown",
   "metadata": {},
   "source": [
    "That's it! &ndash; one method called `do()` that codes-up the simulation loop. While the simulation is not at equilibrium (as defined by the `at_equilibrium()` method inherited from `Dynamics`) we retrieve the event distribution. For each entry we run-through all the possible places for an event and select randomly whether the event actually happens. We do this by using the `numpy.random.random()` function, which returns a random number uniformyl distributed over the range $[0, 1]$. If this random number is less than the probability associated with the event, then we \"fire\" the event by calling the associated event function, passing it the dynamics, the current simulation time, the network over which the process is running, and the place where the event occurs (a node or an edge in the network). We keep track of the number of events we fire, and also keep track of the number of timesteps in which events are fired, which we'll use later when we think about the efficiency of this kind of simulation.\n",
    "\n",
    "At the end of `do()` we package-up a short summary of the experiment as **metadata**: data about the way the simulation occured. We store this in a dict that we inherit from `epyc.Experiment`, accessed by the `metadata()` method. Finally we return our `experimentalResults()`, which is another method inherited from `epyc.Experiment` that we'll come back to in a moment.\n",
    "\n",
    "We're still missing some details, though: `SynchronousDynamics` doesn't give us an event distribution, and doesn't give us any events."
   ]
  },
  {
   "cell_type": "markdown",
   "metadata": {},
   "source": [
    "### <span id=\"sec_epidemic_synchronous_compartmented_synchronous_dynamics\"></span> Compartmented synchronous dynamics "
   ]
  },
  {
   "cell_type": "markdown",
   "metadata": {},
   "source": [
    "The final step, then, is to tie the synchronous dynamics to a compartmented model. We simply delegate the methods we need implementations for off to the implementation we looked at [earlier](software-epydemic.ipynb):"
   ]
  },
  {
   "cell_type": "code",
   "execution_count": 4,
   "metadata": {
    "collapsed": true
   },
   "outputs": [],
   "source": [
    "class CompartmentedSynchronousDynamics(SynchronousDynamics):\n",
    "    '''A :term:`synchronous dynamics` running a compartmented model. The\n",
    "    behaviour of the simulation is completely described within the model\n",
    "    rather than here.'''\n",
    "        \n",
    "    def __init__( self, m, g = None ):\n",
    "        '''Create a dynamics over the given disease model, optionally\n",
    "        initialised to run on the given prototype network.\n",
    "        \n",
    "        :param m: the model\n",
    "        :param g: prototype network to run over (optional)'''\n",
    "        super(CompartmentedSynchronousDynamics, self).__init__(g)\n",
    "        self._model = m\n",
    "\n",
    "    def setUp( self, params ):\n",
    "        '''Set up the experiment for a run. This performs the default action\n",
    "        of copying the prototype network and then builds the model and\n",
    "        uses it to initialise the nodes into the various compartments\n",
    "        according to the parameters.\n",
    "\n",
    "        :params params: the experimental parameters'''\n",
    "        \n",
    "        # perform the default setup\n",
    "        super(CompartmentedSynchronousDynamics, self).setUp(params)\n",
    "\n",
    "        # build the model\n",
    "        self._model.build(params)\n",
    "\n",
    "        # initialise the network from the model\n",
    "        g = self.network()\n",
    "        self._model.setUp(self, g, params)\n",
    "\n",
    "    def eventDistribution( self, t ):\n",
    "        '''Return the model's event distribution.\n",
    "\n",
    "        :param t: current time\n",
    "        :returns: the event distribution'''\n",
    "        return self._model.eventDistribution(t)\n",
    "\n",
    "    def experimentalResults( self ):\n",
    "        '''Report the model's experimental results.\n",
    "\n",
    "        :returns: the results as seen by the model'''\n",
    "        return self._model.results(self.network())"
   ]
  },
  {
   "cell_type": "markdown",
   "metadata": {},
   "source": [
    "Again, a very simple class. The constructor takes a compartmented model as a parameter. The `setUp()` method does the standard behaviour of building a copy of the network prototype, and then builds the model and passes the working network to the model's `setUp()` method. `eventDistribution()` returns what the model says is the event distribution, which will also include implementations of the events. Finally, `experimentalResults()` returns a dict of the model's definition of what constitutes the important features of running that particular model."
   ]
  },
  {
   "cell_type": "markdown",
   "metadata": {},
   "source": [
    "### <span id=\"sec_epidemic_synchronous_pause\"></span> But why is the code decomposed this way?"
   ]
  },
  {
   "cell_type": "markdown",
   "metadata": {},
   "source": [
    "That's quite a lot of code, so let's pause and assess what we've built.\n",
    "\n",
    "First of all we defined the basic structures of an epidemic process on a network: basically the ability to generate a working copy of a network several times, some definition of termination, and an abstract method for getting the event distribution. We then specialised this to provide continuous-time simulation dynamics which takk the distribution and applied it to all possible places where events could occur according totheir probabilities. Rather than then specifying the event distributions and events by sub-classing, we instead bound the missing elements to an object defining a compartmented model of disease, allowing that to provide the details.\n",
    "\n",
    "Why this way? &ndash; why not just sub-class `SynchronousDynamics` to provide, for example, the events of SIR and their distribution? The answer is that SIR is a process that can run on several *different* simulation regimes as well as this one, notably the stochastic dynamics we'll look at later. If we defined SIR by sub-classing `SynchronousDynamics`, we'd then need to re-define it if we introduced another simulation dynamics: two definitions of the same process, which is an invitation to mistakes.\n",
    "\n",
    "It's far better to define a single process in a single class and then re-use it, wnd this is what we've done in defining the `CompartmentedModel` class and [sub-classing it to define SIR](software-epydemic.ipynb#sec_software_epydemic_example_sir_model). This makes the simulation framework easier to use, but trickier to implement: the astute reader will have noticed that we didn't explain how `CompartmentedModel` works inside, and that's because it's a bit complicated. But it's also largely irrelevant in practice: you don't need to know how this particular piece of code works in order to use it for network science experiments. (If you're interested, you can look at the code in [`epydemic`'s github repo](https://github.com/simoninireland/epydemic). But don't say you weren't warned.)\n",
    "\n",
    "The message here is not that some simulation code is complicated, but rather that it's possible to *localise* that complexity where it can't do any harm. This keeps the user interface simpler and also means that we can now concentrate on the epidemics, not the code we use to simulate them."
   ]
  },
  {
   "cell_type": "markdown",
   "metadata": {},
   "source": [
    "## <span id=\"sec_epidemic_synchronous_example\"></span> Simulating SIR"
   ]
  },
  {
   "cell_type": "markdown",
   "metadata": {},
   "source": [
    "Finally, at long last, let's run some code.\n",
    "\n",
    "We have a compartmented model of SIR, and a synchronous discrete-time simulation framework, so let's run the former in the latter. We first need to define the parameters of our simulation, and for this experiment we'll use a small-ish ER network and some fairly nondescript SIR parameters: "
   ]
  },
  {
   "cell_type": "code",
   "execution_count": 5,
   "metadata": {
    "collapsed": true
   },
   "outputs": [],
   "source": [
    "# ER network parameters\n",
    "N = 5000\n",
    "kmean = 5\n",
    "pEdge = (kmean + 0.0) / N\n",
    "\n",
    "# SIR parameters\n",
    "pInfected = 0.01\n",
    "pInfect = 0.2\n",
    "pRemove = 0.1"
   ]
  },
  {
   "cell_type": "markdown",
   "metadata": {},
   "source": [
    "We can then create the network and the model, and bind them together with the simulation dynamics:"
   ]
  },
  {
   "cell_type": "code",
   "execution_count": 6,
   "metadata": {
    "collapsed": false
   },
   "outputs": [],
   "source": [
    "g = networkx.erdos_renyi_graph(N, pEdge)\n",
    "m = epydemic.SIR()\n",
    "sim = CompartmentedSynchronousDynamics(m, g)"
   ]
  },
  {
   "cell_type": "markdown",
   "metadata": {},
   "source": [
    "To run the simulation we need to pass the parameters as a dict keyed by the names we used for them in the compartmented model description of SIR. We then set these as the parameters and run the simulation:"
   ]
  },
  {
   "cell_type": "code",
   "execution_count": 7,
   "metadata": {
    "collapsed": false
   },
   "outputs": [],
   "source": [
    "# create a parameters dict containing the disease parameters we want\n",
    "params = dict()\n",
    "params[epydemic.SIR.P_INFECTED] = pInfected\n",
    "params[epydemic.SIR.P_INFECT] = pInfect\n",
    "params[epydemic.SIR.P_REMOVE] = pRemove\n",
    "\n",
    "# run the simulation\n",
    "sync = sim.set(params).run()"
   ]
  },
  {
   "cell_type": "markdown",
   "metadata": {},
   "source": [
    "The simulation returns a Python dict which as refer to as a **results dict**. It's structured in a very particular way, with three top-level keys: "
   ]
  },
  {
   "cell_type": "code",
   "execution_count": 11,
   "metadata": {
    "collapsed": false
   },
   "outputs": [
    {
     "data": {
      "text/plain": [
       "['results', 'parameters', 'metadata']"
      ]
     },
     "execution_count": 11,
     "metadata": {},
     "output_type": "execute_result"
    }
   ],
   "source": [
    "sync.keys()"
   ]
  },
  {
   "cell_type": "markdown",
   "metadata": {},
   "source": [
    "The `results` key contains a dict of the experimental results that the simulation returned: it's \"real\" results, if you like: "
   ]
  },
  {
   "cell_type": "code",
   "execution_count": 12,
   "metadata": {
    "collapsed": false
   },
   "outputs": [
    {
     "data": {
      "text/plain": [
       "{'compartments': {'I': 0, 'R': 4789, 'S': 211}, 'loci': {'I': 0, 'SI': 0}}"
      ]
     },
     "execution_count": 12,
     "metadata": {},
     "output_type": "execute_result"
    }
   ],
   "source": [
    "sync['results']"
   ]
  },
  {
   "cell_type": "markdown",
   "metadata": {},
   "source": [
    "In this case the results are a dict of compartments and their sizes, and a dict of loci and their sizes. We can see that in this case there are no infected nodes left, and therefore no SI edges &ndash; and therefore no way the simulation can infect any more nodes.\n",
    "\n",
    "The `parameters` key contains a dict of the parameters we passed to the simulation:  "
   ]
  },
  {
   "cell_type": "code",
   "execution_count": 13,
   "metadata": {
    "collapsed": false
   },
   "outputs": [
    {
     "data": {
      "text/plain": [
       "{'pInfect': 0.2, 'pInfected': 0.01, 'pRemove': 0.1}"
      ]
     },
     "execution_count": 13,
     "metadata": {},
     "output_type": "execute_result"
    }
   ],
   "source": [
    "sync['parameters']"
   ]
  },
  {
   "cell_type": "markdown",
   "metadata": {},
   "source": [
    "So we have the experimental results and the simulation parameters that gave rise to the immediately to hand. Note that this isn't *quite* all the information we might need, as it doesn't include the size or link probability of the underlying network prototype we passed to the simulation.\n",
    "\n",
    "Finally, the `metadata` key contains a dist of useful information about how the simulation progressed: "
   ]
  },
  {
   "cell_type": "code",
   "execution_count": 14,
   "metadata": {
    "collapsed": false
   },
   "outputs": [
    {
     "data": {
      "text/plain": [
       "{'elapsed_time': 0.461651,\n",
       " 'end_time': datetime.datetime(2017, 8, 16, 13, 11, 54, 793241),\n",
       " 'experiment_time': 0.236231,\n",
       " 'setup_time': 0.221676,\n",
       " 'simulation_events': 10017,\n",
       " 'simulation_time': 20000,\n",
       " 'start_time': datetime.datetime(2017, 8, 16, 13, 11, 54, 331590),\n",
       " 'status': True,\n",
       " 'teardown_time': 0.003744,\n",
       " 'timesteps_with_events': 78}"
      ]
     },
     "execution_count": 14,
     "metadata": {},
     "output_type": "execute_result"
    }
   ],
   "source": [
    "sync['metadata']"
   ]
  },
  {
   "cell_type": "markdown",
   "metadata": {},
   "source": [
    "These values might be important in assessing how the simulation worked. For the time being, let's just draw attention to the difference between two values: the overall simulation time (20000 timesteps, the default), and the number of timesteps iun whichevents actually occurred. The former is *way* larger than the latter, suggesting that the simulation did an awful lot of ... well, nothing.\n",
    "\n",
    "We can easily check whether we had an epidemic by checking the size of the largest outbreak, which in the case of an epidemic should scale linearly with `N`, the size of the network:"
   ]
  },
  {
   "cell_type": "code",
   "execution_count": 18,
   "metadata": {
    "collapsed": false
   },
   "outputs": [
    {
     "name": "stdout",
     "output_type": "stream",
     "text": [
      "Epidemic covered 95.78% of the network\n"
     ]
    }
   ],
   "source": [
    "print \"Epidemic covered {percent:.2f}% of the network\".format(percent = ((sync['results']['compartments']['R'] + 0.0)/ N) * 100)"
   ]
  },
  {
   "cell_type": "markdown",
   "metadata": {},
   "source": [
    "## <span id=\"sec_epidemic_synchronous_issues\"></span> Issues with  the synchronous approach"
   ]
  },
  {
   "cell_type": "markdown",
   "metadata": {},
   "source": [
    "The synchronous approach to simulation is easy for a programmer to understand, which of course is an enormous advantage. But it does have some important disadvantages too. There are two issues in particular, one programmatic and one mathematical, that can be better addressed by using a slightly different approach. "
   ]
  },
  {
   "cell_type": "markdown",
   "metadata": {},
   "source": [
    "### Performance of synchronous simulation"
   ]
  },
  {
   "cell_type": "markdown",
   "metadata": {},
   "source": [
    "The synchronous synamics we encoded above works by evaluating the process dynamics at each discrete timestep. This is an obvious approach, but one that begs two questions: how expensive is it to evaluate the dynamics at each step?; and, what proportion of timesteps do we evaluate the dynamics with no effect, because nothing changes?\n",
    "\n",
    "To answer the first question we can look at the `do()` method on `SynchronousDynamics`. At each timestep it retrieves all the places where an event might occur, which we know from our definition of SIR is any SI edge (for infection events) and any infected node (for removal events). For each place, it draws a random number and then possibly calls an event function. The amount of work therefore depends on the sizes of the two loci for events, which will presumably swell as the epidemic progresses: we might assume that in an average timestep about half the nodes are infected, and some smaller proportion of the edges are SI: we can't say much more without a lot more information about the structure of the network. The loci change as events occur, which means that `CompartmentedModel` will have to ensure that it can efficiently track these changes (and indeed a lot of the code complexity addresses exactly this).\n",
    "\n",
    "We alluded earlier to the answer to the second question. The result dict includes metadata that defines the number of timesteps and the number in which at least one event actually occurred. We can use these to determine the percentage of timesteps in which anything actually happened &ndash; and therefore calculate the \"wasted\" timesteps:"
   ]
  },
  {
   "cell_type": "code",
   "execution_count": 20,
   "metadata": {
    "collapsed": false
   },
   "outputs": [
    {
     "name": "stdout",
     "output_type": "stream",
     "text": [
      "Of 20000 cycles simulated, 19922 (99.61%) had no events \n"
     ]
    }
   ],
   "source": [
    "print \"Of {n} cycles simulated, {no} ({percent:.2f}%) had no events \".format(n = sync['metadata']['simulation_time'],\n",
    "                                                                             no = sync['metadata']['simulation_time'] - sync['metadata']['timesteps_with_events'],\n",
    "                                                                             percent = (sync['metadata']['simulation_time'] - sync['metadata']['timesteps_with_events']) / (0.0 + sync['metadata']['simulation_time']) * 100)"
   ]
  },
  {
   "cell_type": "markdown",
   "metadata": {},
   "source": [
    "Even though \"nothing happened\" in those timesteps, we still performed computation to determine it, since we probabilistically tried to pass infection from each infected node to each of its susceptible neighbours. For certain parameter combinations &ndash; large, dense networks with long-running but not very transmissible infection, for example &ndash; this can result in a lot of extraneous computation."
   ]
  },
  {
   "cell_type": "markdown",
   "metadata": {
    "collapsed": true
   },
   "source": [
    "### Statistical exactness"
   ]
  },
  {
   "cell_type": "markdown",
   "metadata": {},
   "source": [
    "A slightly more significant problem is one of statistical exactness: the extent to which the simulation actually performs according to the probabilities. We won;t dig into this in too much detail, but the basic problem is simple to explain. In the `do()` method, for each possible event, we collect the possible places the event can happen and then decide whether the event actually happens there. There's a hidden assumption here that all these choices are independent of one another, but that's not quite the case. For example, if two infected nodes are connected to the same susceptible node &ndash; so there are two SI edges in the locus for infection events &ndash; then we have two chances to infect the susceptible node in the same timestep. If the first time happens to result in infection then the second one can't (by definition), making the actual rate of infections in a timestep varies just slightly from the expected value. Similarly, we may happen to run the removal events before the infection events, and so nodes infected in the timestep don'ty have any possibility of recovering in that same timestep &ndash; even if the probability of recovery were set very high.\n",
    "\n",
    "If these sound like trivial issues, well they may well be. But they may *not* be, depending on the exact combinations of parameters and network structures we encounter. That's a risk it'd be better not to take, as it introduces patterns into the simulation results that aren't there  the model descriptions, or indeed in any mathematical analysis we might make of them.\n",
    "\n",
    "It might be that we're willing to accept these issues in the interests of simplicity: synchronous simulation is very easy to program and understand. But both the performance and the statistical exactness issues are caused by the same basic decision to use discrete time, and it turns out that we can address both by using a different simulation dynamics, one that works directly from the probability distributions in continuous time."
   ]
  }
 ],
 "metadata": {
  "kernelspec": {
   "display_name": "Python 2",
   "language": "python",
   "name": "python2"
  },
  "language_info": {
   "codemirror_mode": {
    "name": "ipython",
    "version": 2
   },
   "file_extension": ".py",
   "mimetype": "text/x-python",
   "name": "python",
   "nbconvert_exporter": "python",
   "pygments_lexer": "ipython2",
   "version": "2.7.13"
  }
 },
 "nbformat": 4,
 "nbformat_minor": 0
}
