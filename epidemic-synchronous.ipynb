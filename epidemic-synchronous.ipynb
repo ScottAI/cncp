{
 "cells": [
  {
   "cell_type": "markdown",
   "metadata": {},
   "source": [
    "# <span id=\"chap_epidemic_synchronous\"></span> Synchronous simulation"
   ]
  },
  {
   "cell_type": "markdown",
   "metadata": {},
   "source": [
    "To go a step further we will need to discretise the differential equations the describe an epidemic so that they run on a network. Rather than do this na&iuml;vely, we will encapsulate the notion of a \"network with process dynamics\" into a class that we can use to create and simulate epidemics with different parameters as we require.\n",
    "\n",
    "In this chapter we will introduce a very simple kind of simulation that is \"direct\" or \"synchronous\". This is perhaps the simplest way to simulate an epidemic on a network and so is a good place to start, but has some disadvantages when run with some parameter values. In the [next chapter](epidemic-gillespie.ipynb) we will introduce another kind of simulation framework and show that it is equivalent to the synchronous model we use here."
   ]
  },
  {
   "cell_type": "markdown",
   "metadata": {},
   "source": [
    "## <span id=\"sec_epidemic_synchronous_networks_with_dynamics\"></span> Networks with dynamics"
   ]
  },
  {
   "cell_type": "markdown",
   "metadata": {},
   "source": [
    "Firstly, we define what it means to be a dynamical process running over a network. The goal is to capture the abstract behaviour of a particular style of simulation, and to instrument the simulation frameworks to collect data that we can use to compare them.\n",
    "\n",
    "We will approach this problem by defining a class of network that has an associated dynamics running over it. We can then sub-class this class to define the particular process we want to simulate, as well as optionally the particular network topology we want to run this process over."
   ]
  },
  {
   "cell_type": "code",
   "execution_count": 3,
   "metadata": {
    "collapsed": true
   },
   "outputs": [
    {
     "name": "stderr",
     "output_type": "stream",
     "text": [
      "/Users/sd/research/writing/complex-networks-complex-processes/notebook/cncp/lib/python2.7/site-packages/matplotlib/__init__.py:872: UserWarning: axes.color_cycle is deprecated and replaced with axes.prop_cycle; please use the latter.\n",
      "  warnings.warn(self.msg_depr % (key, alt_key))\n",
      "/Users/sd/research/writing/complex-networks-complex-processes/notebook/cncp/lib/python2.7/site-packages/matplotlib/font_manager.py:273: UserWarning: Matplotlib is building the font cache using fc-list. This may take a moment.\n",
      "  warnings.warn('Matplotlib is building the font cache using fc-list. This may take a moment.')\n"
     ]
    }
   ],
   "source": [
    "import networkx\n",
    "import math\n",
    "import numpy\n",
    "import time\n",
    "import pickle\n",
    "\n",
    "import pandas as pd\n",
    "\n",
    "import matplotlib\n",
    "%matplotlib inline\n",
    "%config InlineBackend.figure_format = 'svg'\n",
    "import matplotlib.pyplot as plt\n",
    "import seaborn"
   ]
  },
  {
   "cell_type": "markdown",
   "metadata": {},
   "source": [
    "We extend the `NetworkX` class of graphs (networks) to include a description of the process running over it. We allow a process to record the dynamical state of each node, as well as to record that a particular edge was traversed to transmit the infection. (This is known as the edge being *occupied*, notation derived from percolation theory that isn't very intuitive for epidemiology but nonetheless is the standard term.) We add helper methods allowing the network to be \"skeletonised\" to include only the occupied edges, which allows calculations to be performed on only the \"contact edges\" that actually transmitted infection, and to extract the sizes of the different sub-populations. We add a method to detect termination of the model &ndash; or, perhaps more accurately, to decide that it has reached steady-state, which by default we make happen after a \"long time\". Finally, we add abstract methods that can be used to set up, tear down, and express the dynamical process being simulated. These will be overridden in sub-classes to provide the two approaches we want to compare. "
   ]
  },
  {
   "cell_type": "code",
   "execution_count": 9,
   "metadata": {
    "collapsed": true
   },
   "outputs": [],
   "source": [
    "class GraphWithDynamics(networkx.Graph):\n",
    "    '''A NetworkX undirected network with an associated dynamics. This\n",
    "    class combines two sets of entwined functionality: a network, and\n",
    "    the dynamical process being studied. This is the abstract base class\n",
    "    for studying different kinds of dynamics.'''\n",
    "\n",
    "    # keys for node and edge attributes\n",
    "    DYNAMICAL_STATE = 'state'   # dynamical state of a node\n",
    "    OCCUPIED = 'occupied'       # edge has been used to transfer infection or not\n",
    "\n",
    "    def __init__( self, g = None ):\n",
    "        '''Create a graph, optionally with nodes and edges copied from\n",
    "        the graph given.\n",
    "        \n",
    "        g: graph to copy (optional)'''\n",
    "        networkx.Graph.__init__(self, g)\n",
    "        if g is not None:\n",
    "            self.copy_from(g)\n",
    "        \n",
    "    def copy_from( self, g ):\n",
    "        '''Copy the nodes and edges from another graph into us.\n",
    "        \n",
    "        g: the graph to copy from\n",
    "        returns: the copy of the graph'''\n",
    "        \n",
    "        # copy in nodes and edges from source network\n",
    "        self.add_nodes_from(g.nodes_iter())\n",
    "        self.add_edges_from(g.edges_iter())\n",
    "        \n",
    "        # remove self-loops\n",
    "        es = self.selfloop_edges()\n",
    "        self.remove_edges_from(es)\n",
    "        \n",
    "        return self\n",
    "    \n",
    "    def remove_all_nodes( self ):\n",
    "        '''Remove all nodes and edges from the graph.'''\n",
    "        self.remove_nodes_from(self.nodes())\n",
    "\n",
    "    def at_equilibrium( self, t ):\n",
    "        '''Test whether the model is an equilibrium. The default runs for\n",
    "        20000 timesteps and then stops.\n",
    "        \n",
    "        t: the current simulation timestep\n",
    "        returns: True if we're done'''\n",
    "        return (t >= 20000)\n",
    "\n",
    "    def before( self ):\n",
    "        '''Placeholder to be run ahead of simulation. Default does nothing.'''\n",
    "        pass\n",
    "\n",
    "    def after( self ):\n",
    "        '''Placeholder to be run after simulation Default does nothing.'''\n",
    "        pass\n",
    "    \n",
    "    def _dynamics( self ):\n",
    "        '''Internal function defining the way the dynamics works. Must be\n",
    "        overridden in sub-classes.\n",
    "\n",
    "        returns: a dict of properties'''\n",
    "        raise NotYetImplementedError('_dynamics()')\n",
    "        \n",
    "    def dynamics( self ):\n",
    "        '''Run a number of iterations of the model over the network. The\n",
    "        default simply runs the dynamics once.\n",
    "        \n",
    "        returns: a dict of properties'''\n",
    "        return self._dynamics()\n",
    "\n",
    "    def skeletonise( self ):\n",
    "        '''Remove unoccupied edges from the network. This leaves the network\n",
    "        consisting of only \"occupied\" edges that were used to transmit the\n",
    "        infection between nodes.\n",
    "        \n",
    "        returns: the network with unoccupied edges removed'''\n",
    "        \n",
    "        # find all unoccupied edges\n",
    "        edges = []\n",
    "        for n in self.nodes_iter():\n",
    "            for (np, m, data) in self.edges_iter(n, data = True):\n",
    "                if (self.OCCUPIED not in data.keys()) or (data[self.OCCUPIED] != True):\n",
    "                    # edge is unoccupied, mark it to be removed\n",
    "                    # (safe because there are no parallel edges)\n",
    "                    edges.insert(0, (n, m))\n",
    "                    \n",
    "        # remove all the unoccupied edges in one go\n",
    "        self.remove_edges_from(edges)\n",
    "        return self\n",
    "    \n",
    "    def populations( self ):\n",
    "        '''Return a count of the number of nodes in each dynamical state.\n",
    "        \n",
    "        returns: a dict mapping states to number of nodes in that state'''\n",
    "        pops = dict()\n",
    "        for n in self.nodes_iter():\n",
    "            s = self.node[n][self.DYNAMICAL_STATE]\n",
    "            if s not in pops.keys():\n",
    "                pops[s] = 1\n",
    "            else:\n",
    "                pops[s] = pops[s] + 1\n",
    "        return pops"
   ]
  },
  {
   "cell_type": "markdown",
   "metadata": {},
   "source": [
    "We've left a couple of methods for sub-classes to implement, notably `_dynamics()` to provide the actual dynamics executed at a node. We've also added a couple of hooks for behaviour to happen before and after the simulation."
   ]
  },
  {
   "cell_type": "markdown",
   "metadata": {},
   "source": [
    "## <span id=\"sec_epidemic_synchronous_dynamics\"></span> Implementing synchronous-time dynamics"
   ]
  },
  {
   "cell_type": "markdown",
   "metadata": {},
   "source": [
    "The process of synchronous-time simulation involves running, at each timestep, a function at each node in the network. We can capture this by oiverriding the `_dynamics()` method so it applies a model function `model()` to each node at each timestep. We override the `dynamics()` method to set up the network, run `_dynamics()` until the sumulation hits equilibrium as defined by the `equilibrium()` method, tear down the network, and report some simulation-level statistics such as elapsed time back.\n",
    "\n",
    "We refer to a change of state of the network as an *event*, and keep track of the number of events that occur and the number of timesteps in which events occur (as well as the total number of timesteps simulated)."
   ]
  },
  {
   "cell_type": "code",
   "execution_count": 32,
   "metadata": {
    "collapsed": false
   },
   "outputs": [],
   "source": [
    "class GraphWithSynchronousDynamics(GraphWithDynamics):\n",
    "    '''A graph with a dynamics that runs synchronously,\n",
    "    applying the dynamics to each node in the network.'''\n",
    "        \n",
    "    def __init__( self, g = None ):\n",
    "        '''Create a graph, optionally with nodes and edges copied from\n",
    "        the graph given.\n",
    "        \n",
    "        g: graph to copy (optional)'''\n",
    "        GraphWithDynamics.__init__(self, g)\n",
    "        \n",
    "    def model( self, n ):\n",
    "        '''The dynamics function that's run over the network. This\n",
    "        is a placeholder to be re-defined by sub-classes.\n",
    "        \n",
    "        n: the node being simulated'''\n",
    "        raise NotYetImplementedError('model()')\n",
    "\n",
    "    def _dynamics_step( self ):\n",
    "        '''Run a single step of the model over the network.\n",
    "        \n",
    "        returns: the number of dynamic events that happened in this timestep'''\n",
    "        events = 0\n",
    "        for i in self.node.keys():\n",
    "            events = events + self.model(i)\n",
    "        return events\n",
    "\n",
    "    def _dynamics( self ):\n",
    "        '''Synchronous dynamics. We apply _dynamics_step() at each timestep\n",
    "        and then check for completion using at_equilibrium().\n",
    "        \n",
    "        returns: a dict of simulation properties'''\n",
    "        rc = dict()\n",
    "\n",
    "        rc['start_time'] = time.clock()\n",
    "        self.before()\n",
    "        t = 0\n",
    "        events = 0\n",
    "        eventDist = dict()\n",
    "        timestepEvents = 0\n",
    "        while True:\n",
    "            # run a step\n",
    "            nev = self._dynamics_step()\n",
    "            if nev > 0:\n",
    "                events = events + nev\n",
    "                timestepEvents = timestepEvents + 1\n",
    "                eventDist[t] = nev\n",
    "        \n",
    "            # test for termination\n",
    "            if self.at_equilibrium(t):\n",
    "                break\n",
    "            \n",
    "            t = t + 1\n",
    "        self.after()\n",
    "        rc['end_time'] = time.clock()\n",
    "        \n",
    "        # return the simulation-level results\n",
    "        rc['elapsed_time'] = rc['end_time'] - rc['start_time']\n",
    "        rc['timesteps'] = t\n",
    "        rc['events'] = events\n",
    "        rc['event_distribution'] = eventDist\n",
    "        rc['timesteps_with_events'] = timestepEvents\n",
    "        rc['node_types'] = self.populations()\n",
    "        return rc"
   ]
  },
  {
   "cell_type": "markdown",
   "metadata": {},
   "source": [
    "## <span id=\"sec_epidemic_synchronous_sir\"></span> Implementing SIR in synchronous-time dynamics"
   ]
  },
  {
   "cell_type": "markdown",
   "metadata": {},
   "source": [
    "We can now specify the synchronous-time version of the SIR dynamics. Referring back, SIR is a [compartmented model](epidemic-compartmented.ipynb) of an abstract disease characterised by three probabilities:\n",
    "\n",
    "* `pInfected`, the probability that a node is infected at the start of the simulation\n",
    "* `pInfect`, the probability that an infected node infects an adjacent susceptible node in a single timestep\n",
    "* `pRecover`, the probability that an infected node recovers in a single timestep\n",
    "\n",
    "It is worth noting that only infected nodes are loci for the disease, since nodes only change state through the intervention of an infected node. It is therefore sufficient to run dynamics only at infected nodes, which are typically a small fraction of the nodes in the network at a given time. We therefore sub-class the `GraphWithSynchronousDynamics` class to provide SIR dynamics by overriding various methods. We define the set-up method to infect nodes with probability `pInfected`, and to mark all edges as unoccupied. We define a timestep of the dynamics to run the `model()` method on each infected node, with the model infecting adjacent susceptible nodes with probability `pInfect` (and marking the edge the disease traverses as occupied) before recovering with probability `pRecover`. We define equilibrium as either a \"long time\" or the infection dying out in the network. And we extend the `dynamics()` method to capture disease-level statistics to add to the simulation-level statistics captured by default. Specifically we capture the number, mean, and maximum sizes of outbreaks, which are defined as connected components within the skeletonised network representing only those nodes connected by occupied edges."
   ]
  },
  {
   "cell_type": "code",
   "execution_count": 33,
   "metadata": {
    "collapsed": false
   },
   "outputs": [],
   "source": [
    "class SIRSynchronousDynamics(GraphWithSynchronousDynamics):\n",
    "    '''A graph with a particular SIR dynamics. We use probabilities\n",
    "    to express infection and recovery per timestep, and run the system\n",
    "    using synchronous dynamics.'''\n",
    "    \n",
    "    # the possible dynamics states of a node for SIR dynamics\n",
    "    SUSCEPTIBLE = 'S'\n",
    "    INFECTED = 'I'\n",
    "    RECOVERED = 'R'\n",
    "    \n",
    "    # list of infected nodes, the site of all the dynamics\n",
    "    _infected = []\n",
    "    \n",
    "    def __init__( self, pInfect = 0.0, pRecover = 1.0, pInfected = 0.0, g = None ):\n",
    "        '''Generate a graph with SIR dynamics for the given parameters.\n",
    "        \n",
    "        pInfect: infection probability (defaults to 0.0)\n",
    "        pRecover: probability of recovery (defaults to 1.0)\n",
    "        pInfected: initial infection probability (defaults to 0.0)\n",
    "        g: the graph to copy from (optional)'''\n",
    "        GraphWithSynchronousDynamics.__init__(self, g)\n",
    "        self._pInfect = pInfect\n",
    "        self._pRecover = pRecover\n",
    "        self._pInfected = pInfected\n",
    "            \n",
    "    def before( self ):\n",
    "        '''Seed the network with infected nodes, and mark all edges\n",
    "        as unoccupied by the dynamics.'''\n",
    "        self._infected = []       # in case we re-run from a dirty intermediate state\n",
    "        \n",
    "        # seed the network with infected nodes, making all the other susceptible\n",
    "        for n in self.node.keys():\n",
    "            if numpy.random.random() <= self._pInfected:\n",
    "                self._infected.insert(0, n)\n",
    "                self.node[n][self.DYNAMICAL_STATE] = self.INFECTED\n",
    "            else:\n",
    "                self.node[n][self.DYNAMICAL_STATE] = self.SUSCEPTIBLE\n",
    "                \n",
    "        # mark all edges as unoccupied\n",
    "        for (n, m, data) in self.edges_iter(data = True):\n",
    "            data[self.OCCUPIED] = False\n",
    "\n",
    "    def _dynamics_step( self ):\n",
    "        '''Optimised per-step dynamics that only runs the dynamics at infected\n",
    "        nodes, since they're the only places where state changes originate. At the\n",
    "        end of each timestep we re-build the infected node list.\n",
    "        \n",
    "        returns: the number of events that happened in this timestep'''\n",
    "        events = 0\n",
    "        \n",
    "        # run model dynamics on infected nodes only\n",
    "        for n in self._infected:\n",
    "            events = events + self.model(n)\n",
    "    \n",
    "        # remove any nodes that are no longer infected from the infected list\n",
    "        self._infected = [ n for n in self._infected if self.node[n][self.DYNAMICAL_STATE] == self.INFECTED ]\n",
    "        \n",
    "        return events\n",
    "            \n",
    "    def model( self, n ):\n",
    "        '''Apply the SIR dynamics to node n. From the re-definition of dynamics_step()\n",
    "        we already know this node is infected.\n",
    "\n",
    "        n: the node\n",
    "        returns: the number of changes made'''\n",
    "        events = 0\n",
    "        \n",
    "        # infect susceptible neighbours with probability pInfect\n",
    "        for (_, m, data) in self.edges_iter(n, data = True):\n",
    "            if self.node[m][self.DYNAMICAL_STATE] is self.SUSCEPTIBLE:\n",
    "                if numpy.random.random() <= self._pInfect:\n",
    "                    events = events + 1\n",
    "                    \n",
    "                    # infect the node\n",
    "                    self.node[m][self.DYNAMICAL_STATE] = self.INFECTED\n",
    "                    self._infected.insert(0, m)\n",
    "                        \n",
    "                    # label the edge we traversed as occupied\n",
    "                    data[self.OCCUPIED] = True\n",
    "    \n",
    "        # recover with probability pRecover\n",
    "        if numpy.random.random() <= self._pRecover:\n",
    "            # recover the node\n",
    "            events = events + 1\n",
    "            self.node[n][self.DYNAMICAL_STATE] = self.RECOVERED\n",
    "                \n",
    "        return events\n",
    "            \n",
    "    def at_equilibrium( self, t ):\n",
    "        '''SIR dynamics is at equilibrium if there are no more infected nodes\n",
    "        left in the network or if we've hit the default equilibrium conditions.\n",
    "        \n",
    "        returns: True if the model has stopped'''\n",
    "        if (len(self._infected) == 0):\n",
    "            return True\n",
    "        else:\n",
    "            return GraphWithSynchronousDynamics.at_equilibrium(self, t)\n",
    "            \n",
    "    def dynamics( self ):\n",
    "        '''Returns statistics of outbreak sizes. This skeletonises the\n",
    "        network, so it can't have any further dynamics run on it.\n",
    "        \n",
    "        returns: a dict of statistical properties'''\n",
    "        \n",
    "        # run the basic dynamics\n",
    "        rc = self._dynamics()\n",
    "        \n",
    "        # compute the limits and means\n",
    "        cs = sorted(networkx.connected_components(self.skeletonise()), key = len, reverse = True)\n",
    "        max_outbreak_size = len(cs[0])\n",
    "        max_outbreak_proportion = (max_outbreak_size + 0.0) / self.order()\n",
    "        mean_outbreak_size = numpy.mean([ len(c) for c in cs ])\n",
    "        \n",
    "        # add parameters and metrics for this simulation run\n",
    "        rc['pInfected' ] = self._pInfected,\n",
    "        rc['pRecover'] = self._pRecover,\n",
    "        rc['pInfect'] = self._pInfect,\n",
    "        rc['N'] = self.order(),\n",
    "        rc['mean_outbreak_size'] = mean_outbreak_size,\n",
    "        rc['max_outbreak_size'] = max_outbreak_size,\n",
    "        rc['max_outbreak_proportion'] = max_outbreak_proportion\n",
    "        return rc"
   ]
  },
  {
   "cell_type": "markdown",
   "metadata": {},
   "source": [
    "### <span id=\"sec_epidemic_synchronous_sir_simulation\"></span> Running a simulation"
   ]
  },
  {
   "cell_type": "markdown",
   "metadata": {},
   "source": [
    "We can now perform SIR simulations by creating a network with the appropriate topology and running its dynamics. First we select some suitable experimental parameters:"
   ]
  },
  {
   "cell_type": "code",
   "execution_count": 34,
   "metadata": {
    "collapsed": true
   },
   "outputs": [],
   "source": [
    "# disease parameters\n",
    "pInfected = 0.001\n",
    "pInfect = 0.01\n",
    "pRecover = 0.0002\n",
    "\n",
    "# network parameters for an ER network\n",
    "N = 5000\n",
    "pEdge = 0.004"
   ]
  },
  {
   "cell_type": "markdown",
   "metadata": {},
   "source": [
    "We then instanciate `SIRSynchronousDynamics`. Running the simulation will generate summary statistics for the simulation:"
   ]
  },
  {
   "cell_type": "code",
   "execution_count": 35,
   "metadata": {
    "collapsed": false
   },
   "outputs": [],
   "source": [
    "syn = SIRSynchronousDynamics(pInfected = pInfected, pInfect = pInfect, pRecover = pRecover,\n",
    "                             g = networkx.erdos_renyi_graph(N, pEdge))\n",
    "syn_dyn = syn.dynamics()\n",
    "\n",
    "# save results in case we crash\n",
    "with open('syn-sir.pickle', 'wb') as handle:\n",
    "    pickle.dump(syn_dyn, handle)"
   ]
  },
  {
   "cell_type": "markdown",
   "metadata": {},
   "source": [
    "The saving of results in as a Python \"pickle\" (binary data file) means we can later reload them without re-running the simulation: useful in the case of machine crashes or re-starts:"
   ]
  },
  {
   "cell_type": "code",
   "execution_count": 20,
   "metadata": {
    "collapsed": false
   },
   "outputs": [],
   "source": [
    "# re-load results\n",
    "with open('syn-sir.pickle', 'rb') as handle:\n",
    "    syn_dyn = pickle.load(handle)"
   ]
  },
  {
   "cell_type": "markdown",
   "metadata": {},
   "source": [
    "The simulation object returns a Python dict containing various statistical (and other) measures:"
   ]
  },
  {
   "cell_type": "code",
   "execution_count": 36,
   "metadata": {
    "collapsed": false
   },
   "outputs": [
    {
     "data": {
      "text/plain": [
       "['timesteps_with_events',\n",
       " 'max_outbreak_proportion',\n",
       " 'pRecover',\n",
       " 'pInfected',\n",
       " 'node_types',\n",
       " 'start_time',\n",
       " 'event_distribution',\n",
       " 'N',\n",
       " 'elapsed_time',\n",
       " 'end_time',\n",
       " 'mean_outbreak_size',\n",
       " 'pInfect',\n",
       " 'timesteps',\n",
       " 'events',\n",
       " 'max_outbreak_size']"
      ]
     },
     "execution_count": 36,
     "metadata": {},
     "output_type": "execute_result"
    }
   ],
   "source": [
    "syn_dyn.keys()"
   ]
  },
  {
   "cell_type": "markdown",
   "metadata": {},
   "source": [
    "We can easily check whether we had an epidemic by checking the size of the largest outbreak, which in the case of an epidemic should scale linearly with `N`, the size of the network:"
   ]
  },
  {
   "cell_type": "code",
   "execution_count": 37,
   "metadata": {
    "collapsed": false
   },
   "outputs": [
    {
     "name": "stdout",
     "output_type": "stream",
     "text": [
      "Epidemic covered 42.90% of the network\n"
     ]
    }
   ],
   "source": [
    "print \"Epidemic covered {percent:.2f}% of the network\".format(percent = syn_dyn['max_outbreak_proportion'] * 100)"
   ]
  },
  {
   "cell_type": "markdown",
   "metadata": {},
   "source": [
    "## <span id=\"sec_epidemic_synchronous_issues\"></span> Issues with  the synchronous approach"
   ]
  },
  {
   "cell_type": "markdown",
   "metadata": {},
   "source": [
    "The synchronous approach to simulation is easy for a programmer to understand, which of course is an enormous advantage. But it does have some important disadvantages too. There are two issues in particular, one programmatic and one mathematical, that can be better addressed by using a slightly different approach. We describe these issues to end this chapter, and then present an alternative that solves them both in the [next chapter](epidemic-gillespie.ipynb)."
   ]
  },
  {
   "cell_type": "markdown",
   "metadata": {},
   "source": [
    "### Performance of synchronous simulation"
   ]
  },
  {
   "cell_type": "markdown",
   "metadata": {},
   "source": [
    "The synchronous synamics we encoded above works by evaluating the process dynamics at each discrete timestep. This is an obvious approach, but one that begs two questions: how expensive is it to evaluate the dynamics at each step?; and, what proportion of timesteps do we evaluate the dynamics with no effect, because nothing changes?\n",
    "\n",
    "To address the first question, the `SIRSynchronousDynamics` class' `_dynamics_step()` method runs a stochastic process for each infected node in the networkat each timestep, whcih may result in adjacent susceptible nodes becoming infected, or in the infected node itself recovering, or both &ndash; or neither. Which of these three cases is probabilistic, and if the values of `pInfect` and `pRecover` are small (making a change of state unlikely) then in a lot of timesteps these calculations will leave the network's state unchanged. We can work out mathematically how likely this is to happen, but we can also observe it directly from the simulation, whcih is perhaps more useful. We collect two \"time\" numbers from each simulation run: the number of timesteps the simulation ran for (`timesteps`), and the number of timesteps in which events happened (`timesteps_with_events`). If the former is much bigger than the latter, this indicates that we executed a number of timesteps during which the state of the network didn't change: no susceptible node was infected, and no infected node recovered:"
   ]
  },
  {
   "cell_type": "code",
   "execution_count": 38,
   "metadata": {
    "collapsed": false
   },
   "outputs": [
    {
     "name": "stdout",
     "output_type": "stream",
     "text": [
      "Of 20000 cycles simulated, 16097 (80.48%) had no events \n"
     ]
    }
   ],
   "source": [
    "print \"Of {n} cycles simulated, {no} ({percent:.2f}%) had no events \".format(n = syn_dyn['timesteps'],\n",
    "                                                                             no = syn_dyn['timesteps'] - syn_dyn['timesteps_with_events'],\n",
    "                                                                             percent = (syn_dyn['timesteps'] - syn_dyn['timesteps_with_events']) / (0.0 + syn_dyn['timesteps']) * 100)"
   ]
  },
  {
   "cell_type": "markdown",
   "metadata": {},
   "source": [
    "Even though \"nothing happened\", we still probably performed a sizeable amount of computation to determine it, since we probabilistically tried to pass infection from each infected node to each of its susceptible neighbours. For certain parameter combinations &ndash; large, dense networks with long-running but not very transmissible infection, for example &ndash; this can result in a lot of extraneous computation."
   ]
  },
  {
   "cell_type": "markdown",
   "metadata": {
    "collapsed": true
   },
   "source": [
    "### Statistical exactness"
   ]
  },
  {
   "cell_type": "markdown",
   "metadata": {},
   "source": [
    "TBD"
   ]
  }
 ],
 "metadata": {
  "kernelspec": {
   "display_name": "Python 2",
   "language": "python",
   "name": "python2"
  },
  "language_info": {
   "codemirror_mode": {
    "name": "ipython",
    "version": 2
   },
   "file_extension": ".py",
   "mimetype": "text/x-python",
   "name": "python",
   "nbconvert_exporter": "python",
   "pygments_lexer": "ipython2",
   "version": "2.7.11"
  }
 },
 "nbformat": 4,
 "nbformat_minor": 0
}
