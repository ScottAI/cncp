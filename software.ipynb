{
 "cells": [
  {
   "cell_type": "markdown",
   "metadata": {},
   "source": [
    "# <span id=\"chap_software\"></span> Software"
   ]
  },
  {
   "cell_type": "markdown",
   "metadata": {},
   "source": [
    "Languages and tools:\n",
    "\n",
    "1. [Python](https://www.python.org/): The new *lingua franca* of scientific computing. I stick to Python 2.7 because it's the most compatible and most familiar &ndash; and because, frankly, there's no compelling reason to move to Python 3.\n",
    "1. [IPython](http://ipython.org): An interactive \"shell\" to Python that makes it more convenient to do exploratory calculations, especially in combination with Jupyter.\n",
    "1. [Jupyter](http:/jupyter.org): An interactive web-based notebook, modelled loosely on Mathematica, that supports scientific calculation using a huge range of languages, including (for our purposes) IPython.\n",
    "\n",
    "Coire packages:\n",
    "\n",
    "1. [SciPy](http://scipy.org/): Scientific Python, containing a suite of statistical goodies as well as definitions of some \"special\" functions that come in useful.\n",
    "1. [Numpy](http://www.numpy.org/): Numeric libraries.\n",
    "1. [ipyparallel](): Parallel computing support for computing at scale, comes with IPython.\n",
    "1. [mpmath](http://mpmath.org/): arbitrary-precision real maths, provides some handy special functions\n",
    "1. [networkx](http://networkx.github.io/): The main library for doing network science. Absolutely essential.\n",
    "1. [matplotlib](http://matplotlib.org/): The most widely-used Python graphics library.\n",
    "1. [seaborn](http://stanford.edu/~mwaskom/software/seaborn/): A wrapper around `matplotlib` making it more useful for statistical visualisation, and improving the appearance of figures generally.\n",
    "1. [pandas](http://pandas.pydata.org/): A data analysis library with some nice statistical and graphics features. Integrates well with `matplotlib` and `networkx`.\n",
    "\n",
    "Useful for getting datasets off the web:\n",
    "\n",
    "1. [requests](http://docs.python-requests.org/), a library for making interacting with web servers more Pythonic.\n",
    "1. [lxml](http://lxml.de/), an XML engine that improves on the one built-in to Python.\n",
    "1. [Beautiful Soup](http://www.crummy.com/software/BeautifulSoup/), a parser for HTML that can handle poorly-built pages, and so is useful for scraping data from web sites without a proper programmatic interface.\n",
    "\n",
    "Useful for spatial networks:\n",
    "\n",
    "1. [GDAL](http://www.gdal.org/) and its Python bindings, a conversion library for geographic data formats.\n",
    "\n",
    "Other tools:\n",
    "\n",
    "1. [JSAnimation](http://nbviewer.ipython.org/github/jakevdp/JSAnimation/blob/master/animation_example.ipynb): Not essential, but allows animations within an IPython notebook without going *via* YouTube &ndash; at the cost of huge notebook files.\n",
    "1. [Gephi](https://gephi.org/), a graph visualisation tool that lets you interact with a network.\n"
   ]
  }
 ],
 "metadata": {
  "kernelspec": {
   "display_name": "Python 2",
   "language": "python",
   "name": "python2"
  },
  "language_info": {
   "codemirror_mode": {
    "name": "ipython",
    "version": 2
   },
   "file_extension": ".py",
   "mimetype": "text/x-python",
   "name": "python",
   "nbconvert_exporter": "python",
   "pygments_lexer": "ipython2",
   "version": "2.7.12"
  }
 },
 "nbformat": 4,
 "nbformat_minor": 0
}
