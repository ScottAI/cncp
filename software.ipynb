{
 "metadata": {
  "name": "",
  "signature": "sha256:a4af0051e2e8a231bdc19700f47b7a3a8034cb92e2fd828b2a34ddafcea4bd09"
 },
 "nbformat": 3,
 "nbformat_minor": 0,
 "worksheets": [
  {
   "cells": [
    {
     "cell_type": "heading",
     "level": 1,
     "metadata": {},
     "source": [
      "<span id=\"chap_software\"></span>\n",
      "Software"
     ]
    },
    {
     "cell_type": "markdown",
     "metadata": {},
     "source": [
      "Complex networks are quite intensive of memory, processing capability, and (sometimes) graphics. One can work from scratch, and sometimes this is necessary for special projects at the extremes of what's possible; for the vast majority of applications, however, one can build on the tools and libraries developed by others.\n",
      "\n",
      "In this chapter we elaborate a software toolset that provides all the features we've used in this book. It consists primarily of Python code and libraries. Taken together, this is sufficient to run all the examples in the book. "
     ]
    },
    {
     "cell_type": "heading",
     "level": 2,
     "metadata": {},
     "source": [
      "Core software"
     ]
    },
    {
     "cell_type": "markdown",
     "metadata": {},
     "source": [
      "Essentials:\n",
      "\n",
      "1. [Python](https://www.python.org/): The new *lingua franca* of scientific computing. I stick to Python 2.7 because it's the most compatible and most familiar.\n",
      "1. [SciPy](http://scipy.org/): Scientific Python, with many useful functions.\n",
      "1. [NumPy](http://www.numpy.org/): Numeric libraries. Part of SciPy.\n",
      "1. [NetworkX](http://networkx.github.io/): The main library for doing network science. Absolutely essential.\n",
      "1. [matplotlib](http://matplotlib.org/): The most widely-used Python graphics library.\n",
      "1. [pandas](http://pandas.pydata.org/): A data analysis library with some nice statistical and graphics features. Integrates well with matplotlib and NetworkX.\n",
      "\n",
      "Many Python installations come with the \"`SciPy` stack\" already installed, which will bring in all the above apart from `NetworkX`. If yours doesn't, look at the [installation instructions](http://www.scipy.org/install.html) and install the whole stack."
     ]
    },
    {
     "cell_type": "markdown",
     "metadata": {},
     "source": [
      "Extras:\n",
      "\n",
      "1. [Beautiful Soup](http://www.crummy.com/software/BeautifulSoup/): for parsing HTML and XML pages, useful for scraping data off web sites that don't offer a programmatic interface.\n",
      "1. [Gephi](https://gephi.org/), a graph visualisation tool that lets you interact with a network."
     ]
    },
    {
     "cell_type": "heading",
     "level": 2,
     "metadata": {},
     "source": [
      "To run the notebooks"
     ]
    },
    {
     "cell_type": "markdown",
     "metadata": {},
     "source": [
      "If you've downloaded this book as a set of IPython notebooks, you'll need the following in addition to the core software mentioned above:\n",
      "\n",
      "1. [IPython](http://ipython.org/): The interactive Python shell that also functions as a web interface to a running Python interpreter. Essentially lets you write live web pages, interactively run programs, and generate graphics, all from a browser.\n",
      "1. [JSAnimation](http://nbviewer.ipython.org/github/jakevdp/JSAnimation/blob/master/animation_example.ipynb): Not essential, but allows animations within an IPython notebook without going *via* YouTube &ndash; at the cost of huge notebook files."
     ]
    }
   ],
   "metadata": {}
  }
 ]
}