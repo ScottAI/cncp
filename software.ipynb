{
 "cells": [
  {
   "cell_type": "markdown",
   "metadata": {},
   "source": [
    "# <span id=\"chap_software\"></span> Software"
   ]
  },
  {
   "cell_type": "markdown",
   "metadata": {},
   "source": [
    "Complex networks are quite intensive of memory, processing capability, and (sometimes) graphics. One can work from scratch, and sometimes this is necessary for special projects at the extremes of what's possible; for the vast majority of applications, however, one can build on the tools and libraries developed by others.\n",
    "\n",
    "In this chapter we elaborate a software toolset that provides all the features we've used in this book. It consists primarily of Python code and libraries. Taken together, this is sufficient to run all the examples in the book. "
   ]
  },
  {
   "cell_type": "markdown",
   "metadata": {},
   "source": [
    "## Core software"
   ]
  },
  {
   "cell_type": "markdown",
   "metadata": {},
   "source": [
    "Essentials:\n",
    "\n",
    "1. [Python](https://www.python.org/): The new *lingua franca* of scientific computing. I stick to Python 2.7 because it's the most compatible and most familiar &ndash; and because, frankly, there's no compelling reason to move to Python 3. \n",
    "1. [SciPy](http://scipy.org/): Scientific Python, containing a suite of statistical goodies as well as definitions of some \"special\" functions that come in useful.\n",
    "1. [NumPy](http://www.numpy.org/): Numeric libraries.\n",
    "1. [mpmath](http://mpmath.org/)\" arbitrary-precision real maths, provides some handy special functions\n",
    "1. [NetworkX](http://networkx.github.io/): The main library for doing network science. Absolutely essential.\n",
    "1. [matplotlib](http://matplotlib.org/): The most widely-used Python graphics library.\n",
    "1. [seaborn](http://stanford.edu/~mwaskom/software/seaborn/): A wrapper around `matplotlib` making it more useful for statistical visualisation, and improving the appearance of figures generally.\n",
    "1. [pandas](http://pandas.pydata.org/): A data analysis library with some nice statistical and graphics features. Integrates well with matplotlib and NetworkX.\n",
    "\n",
    "Many Python installations come with the \"`SciPy` stack\" already installed, which will bring in all the above apart from `NetworkX` and `seaborn`. If yours doesn't, look at the [installation instructions](http://www.scipy.org/install.html) and install the packages by hand."
   ]
  },
  {
   "cell_type": "markdown",
   "metadata": {},
   "source": [
    "Extras, mainly for spatial networks, include:\n",
    "\n",
    "1. [Requests](http://docs.python-requests.org/), a library for making interacting with web servers more Pythonic.\n",
    "1. [lxml](http://lxml.de/), an XML engine that improves on the one built-in to Python.\n",
    "1. [Beautiful Soup](http://www.crummy.com/software/BeautifulSoup/), a parser for HTML that can handle poorly-built pages, and so is useful for scraping data from web sites without a proper programmatic interface.\n",
    "1. [Gephi](https://gephi.org/), a graph visualisation tool that lets you interact with a network.\n",
    "1. [GDAL](http://www.gdal.org/) and its Python bindings, a conversion library for geographic data formats"
   ]
  },
  {
   "cell_type": "markdown",
   "metadata": {},
   "source": [
    "## To run the notebooks"
   ]
  },
  {
   "cell_type": "markdown",
   "metadata": {},
   "source": [
    "If you've downloaded this book as a set of IPython notebooks, you'll need the following in addition to the core software mentioned above:\n",
    "\n",
    "1. [IPython](http://ipython.org/): The interactive Python shell that also functions as a web interface to a running Python interpreter. Essentially lets you write live web pages, interactively run programs, and generate graphics, all from a browser.\n",
    "1. [JSAnimation](http://nbviewer.ipython.org/github/jakevdp/JSAnimation/blob/master/animation_example.ipynb): Not essential, but allows animations within an IPython notebook without going *via* YouTube &ndash; at the cost of huge notebook files."
   ]
  }
 ],
 "metadata": {
  "kernelspec": {
   "display_name": "Python 2",
   "language": "python",
   "name": "python2"
  },
  "language_info": {
   "codemirror_mode": {
    "name": "ipython",
    "version": 2
   },
   "file_extension": ".py",
   "mimetype": "text/x-python",
   "name": "python",
   "nbconvert_exporter": "python",
   "pygments_lexer": "ipython2",
   "version": "2.7.9"
  }
 },
 "nbformat": 4,
 "nbformat_minor": 0
}
