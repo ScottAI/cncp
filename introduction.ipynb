{
 "metadata": {
  "name": "",
  "signature": "sha256:f1a9043ff6d4320576334e82d0494da34f5b2c1f5c9714acda0ef3fc48e4803f"
 },
 "nbformat": 3,
 "nbformat_minor": 0,
 "worksheets": [
  {
   "cells": [
    {
     "cell_type": "heading",
     "level": 1,
     "metadata": {},
     "source": [
      "<span id=\"chap-introduction\"></span>\n",
      "Introduction"
     ]
    },
    {
     "cell_type": "markdown",
     "metadata": {},
     "source": [
      "This book is about complex networks and the processes that run over them.\n",
      "\n",
      "Complex networks are one of the most exciting developments to have happened in mathematical modelling and computer science in recent years. They provide us with tools for understanding a huge range of real-world phenomena &ndash; phenomena that are resistant to other forms of analysis, but that can be studied, varied, experimented with, and explored using a combination of mathematical analysis and computer simulation.  "
     ]
    },
    {
     "cell_type": "heading",
     "level": 2,
     "metadata": {},
     "source": [
      "How to \"read\" this \"book\""
     ]
    },
    {
     "cell_type": "markdown",
     "metadata": {},
     "source": [
      "The first thing to realise about this book is that, in its main form, it isn't actually a book at all. *Complex networks, complex processes* is built from a linked set of IPython notebooks, combining text, graphics, and live software. (Why Python? Because it's become the *lingua franca* of scientific computing, with a huge range of libraries and tools that take a lot of the drudgery out of programming and let you stay focused on the important, novel parts of your problems.) All the examples are built from code, and that code is included in the text: you can \"run\" the notebook to generate the images, graphics, and videos, or change the code to suit yourself. Alternatively, you can treat the code snippets as recipes you can copy into your own programs and applications. All the code needed to get the results discussed in the book, the simulations to create them and the diagrams to present them, is included within it; all the diagrams relating to networks are generated using Python, and all the code for them is included. The [software chapter](software.ipynb) contains pointers to everything you need to install to get things working.\n",
      "\n",
      "As well as presenting how to compute with and simulate complex networks, *Complex networks, complex processes* also discusses their mathematics. We assume little in the way of mathematical background: apart from some elementary probability theory, matrix algebra, and calculus, the book aims to be mathematically self-contained, and we'll develop the maths we need as we go along. And just as all the code is backed by maths, so all the maths has code examples to show how it works.\n",
      "\n",
      "It's often tempting to stick close to what you know, for example taking the code snippets as you need them and ignoring the maths or the wider discussions. And that's fine if that's all you want. However, my experience has been that in order to work with these ideas, you need *both* the computing *and* the maths. Even though many real-world systems are too complex for analysis, you'll only know this if you understand the limits of the analysis that's possible; conversely, finding a network that's too complex to analyse won't defeat you if you're comfortable with simulation as well as analysis. The two approaches are really two sides of the same coin that complement each other: it's well worth taking the time to understand both."
     ]
    },
    {
     "cell_type": "heading",
     "level": 2,
     "metadata": {},
     "source": [
      "Structure"
     ]
    },
    {
     "cell_type": "markdown",
     "metadata": {},
     "source": [
      "...\n",
      "\n",
      "We've taken something of a compromise position. We start by looking at the [basic concepts](concepts.ipynb) that drive complex networks. This will get the ideas straight, and we'll try to show how these ideas manifest themselves when using complex networks and complex processes to model real-world problems. \n",
      "\n",
      "We'll then look at the simplest sort of complex network, the [ER networks](er-networks.ipynb). We start by looking at them computationally, showing how to build and explore them using Python's `NetworkX` library. We then dive into their mathematical description, pulling out the core features that all complex networks have: degree distribution, mean degree, diameter, characteristic path lengths, and so on, as we defined in the [earlier chapter](concepts.ipynb).\n",
      "\n",
      "We then move on to two other sorts of complex network. [Power-law networks](powerlaw.ipynb) follow a different degree distribution to ER networks, and present some interesting features that don't appear in them. We then move onto the building [networks with arbitrary degree distributions](generating-networks.ipynb) built using an approach called the configuration model. This also allows us to introduce another common piece of mathematics, generating functions, that are often used when analysing complex networks and that fit in well with the configuration model.\n",
      "\n",
      "The next chapter concerns some techniques for using matrices and linear algebra for identifying properties of networks. These [spectral techniques](spectral.ipynb) are exceptionally powerful and promising, and more than justify the effort needed to understand the linear algebra. \n",
      "\n",
      "After this, we'll leave the static features of networks and focus on the dynamic processes we might want to run over them, using the same sort of approach as above. We'll start by looking at [epidemic spreading](epidenic-spreading.ipynb), a common process that's used to model the spread of diseases and the spread of information. Again, we'll simulate the processes and then look at their mathematics. We'll then move onto to [percolation processes](percolation.ipynb), which are a more general and abstract process.\n",
      "\n",
      "At this stage, we'll have convered the basics of the field, and can move on to some more topical areas and their applications. We'll look at [modularity](modular-networks.ipynb) to show how even small changes in the way a network is put together can affect the behaviour of processes. Then we'll look at [multiplex or coupled networks](coupled-networks.ipynb) where we can specify and study the behaviour of a single process through multiple separate-but-interconnected networks. Finally we'll look at [adaptive networks](adaptive-networks.ipynb), in which the topology of a network (its static structure) changes in response to a process running dynamically over it. These are all questions of immediate interest to researchers working on models of real-world behaviour.\n",
      "\n",
      "There are some special technical issues that also merit discussion. We'll look briefly at the tools and techniques needed to work with [very large networks](parallel.ipynb), which are needed when working at scale. We'll also look at [spatial data](geodata.ipynb), and specifically at getting data from map servers to display network behaviour and results more impactfully.\n",
      "\n",
      "But before any of that, we'll start with an insultingly brief history of the evolution of network science. You could treat this as a bluffer's guide to complex networks: all you'll ever need at a party to be instantly acclaimed as the resident network bore."
     ]
    },
    {
     "cell_type": "heading",
     "level": 2,
     "metadata": {},
     "source": [
      "A brief yet helpful history of complex networks"
     ]
    },
    {
     "cell_type": "markdown",
     "metadata": {},
     "source": [
      "Like all scientific fields, network science is a product of a particular history. It didn't spring fully-formed into how we encounter it today, but rather evolved through a process of application, accident, and insight. *Application* because networks arose as a way of solving particular problems that were troubling people; *accident* because these problems, the order in which they were encountered, and the tools with which they were addressed were at least somewhat accidental and dependent on the individuals concerned; and *insight* because the major advances came about through unexpected intuitive leaps of imagination that went beyond simply solving a problem at hand. When people say that science proceeds steadily and logically, it's as well to remember that all scientific theories have histories that guided (and in many cases impeded) their development."
     ]
    },
    {
     "cell_type": "heading",
     "level": 3,
     "metadata": {},
     "source": [
      "<span id=\"sec_konigsberg\"></span>\n",
      "Leonhard Euler and the K&ouml;nigsberg Bridges"
     ]
    },
    {
     "cell_type": "markdown",
     "metadata": {},
     "source": [
      "In the early 18th century the citizens of K&ouml;nigsberg (now Kaliningrad) had a problem. In the middle of their city, the River Pregel divided to form an island. The river was spanned by seven bridges connecting the island to the mainland parts of the city. The island and the river were popular venues for people to stroll, meet, and take the air &ndash; and to discuss whether it was possible to take a walk that crossed each bridge exactly once. In the manner of these things, the discussion grew into someting of a frenzy of speculation, with opinion dividing over whether it was impossible, or whether it was just that no-one had actually had the ingenuity to find a solution yet. Leonhard Euler, one of the best-known mathematicians of his (or indeed any other) time, visited K&ouml;nigsberg in 1735 and became aware of the problem. He solved it, in the process inventing what became known as *graph theory*."
     ]
    },
    {
     "cell_type": "markdown",
     "metadata": {},
     "source": [
      "<div class=figure>\n",
      "<div class=figurebody>\n",
      "<img alt=\"Source: Wikipedia\" src=\"konigsberg-bridges.png\">\n",
      "<br>\n",
      "<span class=caption>K&ouml;nigsberg in Euler's time, showing the seven bridges (source: [Wikipedia](https://en.wikipedia.org/wiki/File:Konigsberg_bridges.png))</span>\n",
      "</div>\n",
      "</div>"
     ]
    },
    {
     "cell_type": "markdown",
     "metadata": {},
     "source": [
      "Euler made two key observations. The first was that the actual *geography* of the problem was irrelevant: all that mattered was the *topology* of the problem, the ways in which the bridges linked the banks, since the essence of the problem was to find ways of connecting the ends of the bridges so that one could walk over all of them. Another way to look at this is that, after crossing one bridge, a walker is constrained in which bridges he can walk over next: those with an end on the bank or island on which he is now standing, and which he hasn't walked over already. In modern terminology represented each land mass as a *node* and each bridge as an *edge* connecting two nodes. It doesn't matter how big the land masses are, since a person may walk freely between any pair of bridges. The geographic problem has been converted into a problem of *networks* that can be studied in the abstract.\n",
      "\n",
      "Euler's second observation was that, since people could move freely between all the bridges attached to a given land mass, the key to the problem was how many times a person's path intersected with each land mass. He reasoned that, since every bridge can be traversed only once, the only way to avoid being trapped is if each land mass has an even number of connections &ndash; so that if a person can enter, they can always leave. He realised that there are at most two exceptions to this rule, for the starting and finishing land masses, where it's possible simply to leave (or arrive) and therefore not need another link. Phrased in terms of the network, this converts the problem again from one of topology to one of *node degree*: it is possible to cross all bridges exactly once if the graph has zero or two nodes of odd degree, with all other being of even degree: otherwise one will get \"stuck\" in a node, unable to cross all the bridges.\n",
      "\n",
      "Looking at the map above, all the nodes &ndash; the left bank, right bank, island, and section of town on the right &ndash; all have odd degree, from which Euler concluded that there is no way for someone to traverse all the bridges without re-tracing their steps."
     ]
    },
    {
     "cell_type": "heading",
     "level": 3,
     "metadata": {},
     "source": [
      "The mathematical analysis of networks"
     ]
    },
    {
     "cell_type": "markdown",
     "metadata": {},
     "source": [
      "Euler's success led directly to modern network science, not simply because it allowed problems to be phrased in different ways, but because it suggested a *methodology* for solving problems: abstract them away from their details into the language of networks, and then use general mathematical tools to manipulate them. Once we have this abstract language, there are a number of properties of *networks in general* that may be of interest:\n",
      "\n",
      "1. What is the shortest path between two nodes? Or between *any* two nodes?\n",
      "1. Is it possible to trace a path from one node to another node in the graph? Or from a node to *every* node? How about from every node to *every other* node?\n",
      "1. Are there edges that, if we remove them, cause a node to become unreachable from another node?\n",
      "1. Of all the edges that *could* be present in the graph, how many actually *are* present?\n",
      "\n",
      "The first property is one of finding shortest paths; the second concerns whether the nodes are *reachable* and whether the network is *connected*; the third concerns the *robustness* of the network; the fourth the *density* of the network. The important point is that all these properties are *topological* or *graph-theoretic*: we don't need to know what the network represents in order to calculate them.\n",
      "\n",
      "Conversely, all the properties say something about the phenomenon the network is modelling. In the case of the K&ouml;nigsberg bridges, for example, connectedness refers to whether, starting from any land mass, it is possible to reach any other land mass, while robustness concerns whether removing a bridge would be disasterous for travel. Any property we define at the network level may illuminate something at the problem level, and may even suggest things that we wouldn't have thought of simply by thinking about the problem alone. Or may not: it's not clear that density is especially relevant to bridge-building, since the problem is constrained by all sorts of physical factors that we've elided in moving to a network representation.\n",
      "\n",
      "That highlights an important point about modelling. A model is an abstraction of a real problem, an abstraction necessarily leaves things out, and it's only by understanding the original problem and its real-world context that you can decide whether a particular thing left out is important or not: the network science won't tell you in and of itself."
     ]
    },
    {
     "cell_type": "heading",
     "level": 3,
     "metadata": {},
     "source": [
      "Random networks"
     ]
    },
    {
     "cell_type": "markdown",
     "metadata": {},
     "source": [
      "Network science developed over the next couple of centuries, but largely as a branch of pure rather than applied mathematics. While the tools could be used to study small networks &ndash; networks small enough to be described in full, with all their nodes, edges, and other details written down &ndash; many real-world networks of interest simply aren't like this. Real-world networks are often big &ndash; *very* big &ndash; and are often not completely known. Without all the detaill classical graph theory is rather restricted in what it can do.\n",
      "\n",
      "Things changed in the early 1960's with the arrival into graph theory of Paul Erd&#337;s (pronounced *AIR-dish*), one of the greatest and most prolific mathematicians of the 20th century. Erd&#337;s realised that if networks were built using some random process, and were of a sufficient size, then it would be possible to make general statements about the properties of the graphs even if one did not have the complete details &ndash; in exactly the same way that statistical physics can make statements about macroscopic masses of solids and gases without needing (or being able) to know the exact positions and momenta of every component molecule. Erd&#337;s teamed up with another talented Hungarian mathematician, Alfred R&eacute;nyi, to study the mathematics of these *random networks*, and produced a series of papers that essentially answered all the fundamental questions that they raise.\n",
      "\n",
      "Random networks of the kind studied by Erd&#337;s and R&eacute;nyi, now known as *ER networks* in their honour, are a [topic on their own](er-networks.ipynb). Despite (or actually because of) their underlying randomness, they are extremely well-behaved mathematically. "
     ]
    },
    {
     "cell_type": "heading",
     "level": 3,
     "metadata": {},
     "source": [
      "Complex networks"
     ]
    },
    {
     "cell_type": "markdown",
     "metadata": {},
     "source": [
      "ER networks were so successful mathematically, and provided models of so many physical systems, that they remained essentially the only kind of random network studied for the next twenty years. Eventually, however, researchers realised that ER networks do ot model *all* phenomena. Specifically, they do not model networks with \"clumpy\" degree distributions, as are often found in the engineered and natural systems. The canonical example is the World Wide Web, which in network terms might be modelled by nodes representing pages and edges representing hyperlinks between them. (The web is actually a *directed* network: we'll ignore this subtlety for now.) Web pages have a *very* clumpy degree distribution. Most pages have very small numbers of links to them, while some have huge degree (for example popular books on Amazon)."
     ]
    }
   ],
   "metadata": {}
  }
 ]
}