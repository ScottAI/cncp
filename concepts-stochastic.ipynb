{
 "cells": [
  {
   "cell_type": "markdown",
   "metadata": {},
   "source": [
    "# <span id=\"chap_concepts_stochastic\"></span> Dealing with stochasticity"
   ]
  },
  {
   "cell_type": "markdown",
   "metadata": {},
   "source": [
    "Stochasticity has some important consequences.\n",
    "\n",
    "Firstly, it means that the *same* process run again over the *same* network may produce *different* results: possibly *radically* different. This has important consequences for reproducibility, and we'll return to this topic several times.\n",
    "\n",
    "Secondly, the fact that local rules involve the states of a neighbourhood of nodes means that the topology of the network may affect the ways in which the process can evolve. Processes may (for example) converge to one value on some classes of network while never stabilising on others.\n",
    "\n",
    "Thirdly &ndash; and most importantly &ndash; the combination of a stochastic process with a random network means that  repeated runs of the same process on the same (or statistically similar) networks will be different. The results will exhibit a distribution: a stochastic process, driven by random variables with particular distributions, gives rise to a stochastic result with its own distribution. It might be the case that a given process on a particular class of network almost always converges to a particular state &ndash; but sometimes doesn't, due to some particular set of chance circumstances.\n",
    "\n",
    "It is therefore never enough to run only one realisation of a process over only one network (of a given class). We always need to run multiple realisations and extract some sort of statistical summary from the results. Typically this might involve defining some value for each realisation (how many people became infected?) and then extracting the mean and variance of this value from a set of realisations. We might use exactly the same network with exactly the same initial conditions; or we might use the same network with random (but statistically similar) initial conditions; or we might use different (randomly-generated) networks with different (randomly-generated) initial conditions. We'll dig into these variations as we go along. "
   ]
  },
  {
   "cell_type": "code",
   "execution_count": null,
   "metadata": {
    "collapsed": true
   },
   "outputs": [],
   "source": []
  }
 ],
 "metadata": {
  "kernelspec": {
   "display_name": "Python 2",
   "language": "python",
   "name": "python2"
  },
  "language_info": {
   "codemirror_mode": {
    "name": "ipython",
    "version": 2
   },
   "file_extension": ".py",
   "mimetype": "text/x-python",
   "name": "python",
   "nbconvert_exporter": "python",
   "pygments_lexer": "ipython2",
   "version": "2.7.13"
  }
 },
 "nbformat": 4,
 "nbformat_minor": 1
}
