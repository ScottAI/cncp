{
 "metadata": {
  "name": ""
 },
 "nbformat": 3,
 "nbformat_minor": 0,
 "worksheets": [
  {
   "cells": [
    {
     "cell_type": "heading",
     "level": 1,
     "metadata": {},
     "source": [
      "An introduction to NetworkX"
     ]
    },
    {
     "cell_type": "markdown",
     "metadata": {},
     "source": [
      "We'll start by looking at how NetworkX can be used to create networks.\n",
      "\n",
      "There are many ways in which we can represent a network in a computer. The most common is to probably to define objects representing nodes and edges, with methods for creating them and linking them together. More efficient in some circumstances is to use an adjacency matrix $A$, where two nodes $i$ and $j$ have an edge between them if the value of $A_{ij}$ is non-zero.\n",
      "\n",
      "NetworkX doesn't do this &ndash; at least not externally. Instead it focuses on the graphs, and lets *any* object act as a node or edge label. We can thus create graphs having nodes labelled $1, 2, 3, \\ldots$; alternatively we might have nodes labelled $alice, bob, charles \\ldots$ and edges labelled $mother, \\mathit{father}, \\ldots$ &ndash; using meaningful labels for the elements of the graph. The former is more common for synthetic networks, the latter for networks that represent some real-world phenomenon."
     ]
    },
    {
     "cell_type": "code",
     "collapsed": false,
     "input": [],
     "language": "python",
     "metadata": {},
     "outputs": []
    }
   ],
   "metadata": {}
  }
 ]
}