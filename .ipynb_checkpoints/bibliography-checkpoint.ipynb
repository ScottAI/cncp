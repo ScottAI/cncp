{
 "metadata": {
  "name": "",
  "signature": "sha256:8b452580d714f0fa6e63a71d195c1c6e9405180205bf8db7712314c5407ddf01"
 },
 "nbformat": 3,
 "nbformat_minor": 0,
 "worksheets": [
  {
   "cells": [
    {
     "cell_type": "heading",
     "level": 1,
     "metadata": {},
     "source": [
      "Bibliography"
     ]
    },
    {
     "cell_type": "markdown",
     "metadata": {},
     "source": [
"<h2>Popular science</h2>",
"",
"<p>",
"<a name=\"Linked\"/></a> Albert-L&aacute;szl&oacute; Barab&aacute;si. Linked: the new science of networks. Perseus. 2003. ISBN 978-0-738-20667-7.",
"",
"<p>",
"<a name=\"Bursts\"/></a> Albert-L&aacute;szl&oacute; Barab&aacute;si. Bursts: the hidden patterns behind everything you do, from your e-mail to the Bloody Crusades. Plume. 2011. ISBN 978-0-452-29718-0.",
"",
"<h2>Basic ideas</h2>",
"",
"<p>",
"<a name=\"StructureDynamicsNetworks\"/></a> Mark Newman, Albert-L&aacute;szl&oacute; Barab&aacute;si and Duncan Watts. The structure and dynamics of networks. Princeton University Press. 2006.",
"",
"<p>",
"<a name=\"NewmanNetworksIntroduction\"/></a> M.E.J. Newman. Networks: an introduction. Oxford University Press. 2010. ISBN 978-0-19-920665-0.",
"",
"<p>",
"<a name=\"StatisticalMechanicsComplexNetworks\"/></a> R&eacute;ka Albert and Albert-L&aacute;szl&oacute; Barab&aacute;si. Statistical mechanics of complex networks. Reviews of Modern Physics <b>74</b>, pages 47&ndash;97. January 2002.",
"",
"<p>",
"<a name=\"BoccalettiComplexNetworks\"/></a> S. Boccaletti, V. Latora, Y. Moreno, M. Chavez and D.-U. Hwang. Complex networks: structure and dynamics. Physics Reports <b>424</b>, pages 175&ndash;308. February 2006.",
"",
"<h2>Percolation and dynamical systems</h2>",
"",
"<p>",
"<a name=\"EpidemicSpreadingDegreeCorrelations\"/></a> Mari&aacute;n Bogu&ntilde;a, Romualdo Pastor-Satorras and Alessandro Vespignani. <a href=\"doi://10.1007/978-3-540-44943-0_8\">Epidemic spreading in complex networks with degree correlations</a>. In Statistical mechanics of complex networks, pages 127&ndash;147. Romualdo Pastor-Satorras, Miguel Rubi and Albert Diaz-Guilera (ed). Volume 625 of Lecture Notes in Physics. Springer-Verlag. 2003.",
"",
"<p>",
"<a name=\"GeneratingFunctions\"/></a> M.E.J. Newman, Steven Strogatz and Duncan Watts. <a href=\"http://arxiv.org/abs/cond-mat/0007235\">Random graphs with arbitrary degree distributions and their applications</a>. Technical report arXiv:cond-mat/0007235. 2001.",
"",
"<p>",
"<a name=\"Generatingfunctionology\"/></a> Herbert Wilf. <a href=\"http://www.math.upenn.edu/ wilf/DownldGF.html\">generatingfunctionology</a>. Academic Press. 1990.",
"",
"<p>",
"<a name=\"DynamicalSystemsOnNetworks\"/></a> Mason Porter and James Gleeson. <a href=\"http://arxiv.org/abs/1403.7663v1\">Dynamical systems on networks: a tutorial</a>. Technical report abs/1403.7663v1. 2014.",
"",
"<p>",
"<a name=\"RobustnessAndFragility\"/></a> Duncan Callaway, M.E.J. Newman, Steven Strogatz and Duncan Watts. Network robustness and fragility: percolation on random graphs. Physical Review Letters <b>85</b>(25), pages 5468&ndash;5471. 2000.",
"",
"<p>",
"<a name=\"SISEpidemicThreshold\"/></a> Roni Parshani, Shai Carmi and Shlomo Havlin. Epidemic threshold for the SIS model on random networks. Physical Review Letters <b>104</b>. 2010.",
"",
"<p>",
"<a name=\"PercolationInteractingNetworks\"/></a> E.A. Leicht and Raissa M. D'Souza. <a href=\"http://uk.arxiv.org/abs/0907.0894\">Percolation on interacting networks</a>. Technical report arXiv:0907.0894. 2011.",
"",
"<h2>Spatial networks</h2>",
"",
"<p>",
"<a name=\"SpatialNetworks\"/></a> Marc Barth&eacute;lemy. Spatial networks. Physics Reports <b>499</b>, pages 1&ndash;101. 2011.",
"",
"<p>",
"<a name=\"ProvanSpatialTopologies\"/></a> Jun Wang and Gregory Provan. A comparative analysis of specific spatial network topological models. In Complex sciences, pages 1514&ndash;1525. Jie Zhou (ed). Volume 5 of Lecture Notes of the Institute for Computer Sciences, Social Informatics and Telecommunications Engineering. Springer Verlag. 2009.",
"",
"<h2>Python and data analytics software</h2>",
"",
"<p>",
"<a name=\"PythonForDataAnalysis\"/></a> Wes McKinney. Python for data analysis. O'Reilly Media. 2012.",
"",
"<p>",
"<a name=\"IPythonInteractive\"/></a> Cyrille Rossant. Learning IPython for interactive computing and data visualization. O'Reilly Media. 2013.",
"",
""
     ]
    }
   ],
   "metadata": {}
  }
 ]
}
