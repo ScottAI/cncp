{
 "metadata": {
  "name": "",
  "signature": "sha256:f19d2107f5a11319e0f5c4ee0c2dd70ca3086920198e0640f3400ab48e63ade3"
 },
 "nbformat": 3,
 "nbformat_minor": 0,
 "worksheets": [
  {
   "cells": [
    {
     "cell_type": "heading",
     "level": 2,
     "metadata": {},
     "source": [
      "<span id=\"chap_percolaton\"></span>\n",
      "Percolation"
     ]
    },
    {
     "cell_type": "markdown",
     "metadata": {},
     "source": [
      "Percolation is another kind of process running over networks."
     ]
    },
    {
     "cell_type": "heading",
     "level": 2,
     "metadata": {},
     "source": [
      "Networks and processes"
     ]
    },
    {
     "cell_type": "markdown",
     "metadata": {},
     "source": [
      "Historically, percolation processes were the first dynamic processes studied for complex networks, *i.e.*, the first step beyond the static properties induced by the degree distribution.\n",
      "\n",
      "The notion of percolation comes from physics, and is perhaps easiest to understand in terms of soil. (I tmight not be obvious that soil is a network, but bear with me.) One of the most interesting properties of soil is that it is permeable to liquids: pour water onto an area and it sinks into the soil. In fact, the water flows into the gaps between the particles of soil. In some soils, the water will become trapped and held in some small fraction of these gaps; in others, it will diffuse throughout all the gaps. This \"spreading out\" process is called *percolation*. One might ask, for a given soil, will water eventually spread to fill all the gaps? Or will it become trapped and only wet some fraction of the soil? This question has immediate applications for agriculture, where soils that percolate are easier to irrigate; it also has applications for planning, in that percolation is intimately related to how much water can be held within a soil and therefore to its tendency to flood in wet weather.\n",
      "\n",
      "The connection to our current interest is that the structure of the (gaps between the particles of) soil can be treated as a network: each gap (node) is connected (by edges) to other gaps, and then to other gaps, and so on. The network models the *absence*, rather that the presence, of soil, since it's the spaces that control whether water can percolate through the soil.\n",
      "\n",
      "However, the network is only half the story, the other half being the flow of water. If we \"fill\" one node with water, it can \"flow\" along the edges to \"fill\" neighbouring nodes. If we keep \"filling\" nodes, then more and more neighbours will be \"filled\", with the exact rate and pattern of \"filling\" being controlled by the topology of the network.\n",
      "\n",
      "Percolation, in other words, is a *process* running on the subatrate of a complex network: a *complex process*, in fact, since it's behaviour depends intimately on both the local behaviour the process exhibits at a node, and the way in which the individual nodes are connected. In this case the process occupies a set of nodes in the network with water, and causes the water to spread along edges. Perhaps there is some probability distribution in the liklihood of water flowing along an edge, or we might make the process more complicated and measure the volumes of water being exchanged.\n",
      "\n",
      "To recap, we have a problem about soil, water, and flooding. We re-phrase this as a problem of networks, occupation, and percolation. The question of whether a landscape becomes saturated with water then becomes, does the percolation process eventually occupy a sizeable fraction of the nodes in the network? "
     ]
    },
    {
     "cell_type": "heading",
     "level": 2,
     "metadata": {},
     "source": [
      "The mathematics of percolation"
     ]
    }
   ],
   "metadata": {}
  }
 ]
}