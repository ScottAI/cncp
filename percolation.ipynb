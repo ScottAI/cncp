{
 "metadata": {
  "name": ""
 },
 "nbformat": 3,
 "nbformat_minor": 0,
 "worksheets": [
  {
   "cells": [
    {
     "cell_type": "heading",
     "level": 1,
     "metadata": {},
     "source": [
      "Percolation processes"
     ]
    },
    {
     "cell_type": "markdown",
     "metadata": {},
     "source": [
      "Percolation is another kind of process running over networks.\n",
      "\n",
      "Historically, percolation processes were the first dynamic processes studied for complex networks, *i.e.*, the first step beyond the static properties induced by the degree distribution.\n",
      "\n",
      "The notion of percolation comes from physics, and is perhaps easiest to understand in terms of soil. (I tmight not be obvious that soil is a network, but bear with me.) One of the most interesting properties of soil is that it is permeable to liquids: pour water onto an area and it sinks into the soil. In fact, the water flows into the gaps between the particles of soil. In some soils, the water will become trapped and held in some small fraction of these gaps; in others, it will diffuse throughout all the gaps. This \"spreading out\" process is called *percolation*. One might ask, for a given soil, will water eventually spread to fill all the gaps? Or will it become trapped and only wet some fraction of the soil? This question has immediate applications for agriculture, where soils that percolate are easier to irrigate; it also has applications for planning, in that percolation is intimately related to how much water can be held within a soil and therefore to its temdemcy to flood in wet weather.\n",
      "\n",
      "The connection to our current interest is that the structure of the (gaps between the particles of) soil can be treated as a network: each gap (node) is connected (by edges) to other gaps, and then to other gaps, and so on. The network models the *absence*, rather that the presence, of soil, since it is this that controls whether water can percolate through it. The question about percolation then becomes: starting from some \"surface\" nodes, is there a path that connects to all the other nodes? Or at least to some sizeable fraction of them?"
     ]
    },
    {
     "cell_type": "heading",
     "level": 2,
     "metadata": {},
     "source": [
      "The mathematics of percolation"
     ]
    },
    {
     "cell_type": "markdown",
     "metadata": {},
     "source": [
      "In complex networks, we may be interested in when percolation occurs for networks of a given type. We may also be interested in how damage to the network affects percolation: if the network structure is damaged by removing some fraction of the nodes, can percolation still occur? (In our soil example this corresponds to some of the gaps being \"silted up\" and so unable to hold or transmit water.)\n",
      "\n",
      "Mathematically, give a network $G = (V, E)$, we randomly remove a percentage $q$ of nodes (and of course any edges incident on these nodes). We refer to the probability that a node has not been removed (*i.e.*, is present in the network after the removal has happened) as the *occupation probability*. Nodes may be removed completely at random, or in some more structured way. Generalising slightly, we can say that the probability of a node of $G$ having degree $k$ is denoted $p_k$, and the probability of a node of degree $k$ being occupied is $q_k$. This means that the probability of a node having degree $k$ and being occupied is $p_k q_k$. Represented as a generating function, this distribution becomes:\n",
      "\n",
      "$$F_0(x) = \\sum_k p_k q_k x^k$$\n",
      "\n"
     ]
    },
    {
     "cell_type": "heading",
     "level": 2,
     "metadata": {},
     "source": [
      "Major sources"
     ]
    },
    {
     "cell_type": "markdown",
     "metadata": {},
     "source": [
      "[CNSW00] Duncan Callaway, M.E.J. Newman, Steve Strogatz and Duncan Watts. Network robustness and fragility: percolation on random graphs. Physical Review Letters **85**(25), pp. 5468-5471. December 2000."
     ]
    }
   ],
   "metadata": {}
  }
 ]
}