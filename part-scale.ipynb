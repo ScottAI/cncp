{
 "cells": [
  {
   "cell_type": "markdown",
   "metadata": {},
   "source": [
    "# <span id=\"part-scale\"></span> Part 3: Scaling up"
   ]
  },
  {
   "cell_type": "markdown",
   "metadata": {},
   "source": [
    "In part 3 we deal with a practical topic that's essential to research in complex networks: the techniques for doing experiments at the scale that's needed to get realiable computational results.  We'll address this mainly by talking about IPython's support for [parallel computing clusters](parallel.ipynb), but we'll go beyond the standard descriptions and look at how to [integrate a complicated and long-running computation](parallel-async.ipynb) into today's typical scientific workflows in which researchers typically use laptops: how can we do simulations on compute clusters without being tied to our desks while they happen?\n",
    "\n",
    "We'll then talk about the often-overlooked topic of *reproducibility*: how can we design, package, and publish experiments that others can replicate and build on? We'll look at the basics of [building predictable Python environments](reproducibility-python.ipynb), and then briefly talk about the use of [virtual machines and infrastructure-as-code](reproducibility-at-scale.ipynb) (also known as *devops*) as it applies to computational science to get reproducibility at scale."
   ]
  }
 ],
 "metadata": {
  "kernelspec": {
   "display_name": "Python 2",
   "language": "python",
   "name": "python2"
  },
  "language_info": {
   "codemirror_mode": {
    "name": "ipython",
    "version": 2
   },
   "file_extension": ".py",
   "mimetype": "text/x-python",
   "name": "python",
   "nbconvert_exporter": "python",
   "pygments_lexer": "ipython2",
   "version": "2.7.11"
  }
 },
 "nbformat": 4,
 "nbformat_minor": 0
}
